{
 "cells": [
  {
   "cell_type": "code",
   "execution_count": 1,
   "id": "935bd3ab-e4a6-40ba-a440-1c9f5a0c0d3a",
   "metadata": {},
   "outputs": [],
   "source": [
    "# 1) Imports\n",
    "\n",
    "import os, json, joblib, requests\n",
    "import numpy as np\n",
    "import pandas as pd\n",
    "import matplotlib.pyplot as plt\n",
    "import plotly.express as px\n",
    "import shap\n",
    "\n",
    "from sklearn.linear_model import LinearRegression\n",
    "from sklearn.ensemble import RandomForestRegressor\n",
    "from sklearn.pipeline import Pipeline\n",
    "from sklearn.impute import SimpleImputer\n",
    "from sklearn.preprocessing import StandardScaler\n",
    "from sklearn.metrics import mean_absolute_error, mean_squared_error, r2_score"
   ]
  },
  {
   "cell_type": "code",
   "execution_count": 3,
   "id": "443603a3-4baa-47be-ac90-12d047ba513d",
   "metadata": {},
   "outputs": [],
   "source": [
    "df = pd.read_csv(\"weather_2013_to_2024.csv\")"
   ]
  },
  {
   "cell_type": "code",
   "execution_count": 4,
   "id": "b757567a-a2bd-457c-88e1-51e5a0035736",
   "metadata": {},
   "outputs": [
    {
     "data": {
      "text/html": [
       "<div>\n",
       "<style scoped>\n",
       "    .dataframe tbody tr th:only-of-type {\n",
       "        vertical-align: middle;\n",
       "    }\n",
       "\n",
       "    .dataframe tbody tr th {\n",
       "        vertical-align: top;\n",
       "    }\n",
       "\n",
       "    .dataframe thead th {\n",
       "        text-align: right;\n",
       "    }\n",
       "</style>\n",
       "<table border=\"1\" class=\"dataframe\">\n",
       "  <thead>\n",
       "    <tr style=\"text-align: right;\">\n",
       "      <th></th>\n",
       "      <th>Unnamed: 0</th>\n",
       "      <th>DATE</th>\n",
       "      <th>tempmax</th>\n",
       "      <th>tempmin</th>\n",
       "      <th>temp</th>\n",
       "      <th>feelslikemax</th>\n",
       "      <th>feelslikemin</th>\n",
       "      <th>feelslike</th>\n",
       "      <th>humidity</th>\n",
       "      <th>precip</th>\n",
       "      <th>...</th>\n",
       "      <th>year-2000</th>\n",
       "      <th>weekofyear</th>\n",
       "      <th>tempmax_humidity</th>\n",
       "      <th>tempmin_humidity</th>\n",
       "      <th>temp_humidity</th>\n",
       "      <th>feelslikemax_humidity</th>\n",
       "      <th>feelslikemin_humidity</th>\n",
       "      <th>feelslike_humidity</th>\n",
       "      <th>temp_range</th>\n",
       "      <th>heat_index</th>\n",
       "    </tr>\n",
       "  </thead>\n",
       "  <tbody>\n",
       "    <tr>\n",
       "      <th>0</th>\n",
       "      <td>0</td>\n",
       "      <td>4/14/2013</td>\n",
       "      <td>37.7</td>\n",
       "      <td>23.1</td>\n",
       "      <td>28.7</td>\n",
       "      <td>35.4</td>\n",
       "      <td>23.1</td>\n",
       "      <td>28.1</td>\n",
       "      <td>39.7</td>\n",
       "      <td>2.0</td>\n",
       "      <td>...</td>\n",
       "      <td>13</td>\n",
       "      <td>15</td>\n",
       "      <td>1496.69</td>\n",
       "      <td>917.07</td>\n",
       "      <td>1139.39</td>\n",
       "      <td>1405.38</td>\n",
       "      <td>917.07</td>\n",
       "      <td>1115.57</td>\n",
       "      <td>14.6</td>\n",
       "      <td>147.178118</td>\n",
       "    </tr>\n",
       "    <tr>\n",
       "      <th>1</th>\n",
       "      <td>1</td>\n",
       "      <td>4/15/2013</td>\n",
       "      <td>37.5</td>\n",
       "      <td>21.1</td>\n",
       "      <td>28.6</td>\n",
       "      <td>35.3</td>\n",
       "      <td>21.1</td>\n",
       "      <td>28.0</td>\n",
       "      <td>41.7</td>\n",
       "      <td>0.0</td>\n",
       "      <td>...</td>\n",
       "      <td>13</td>\n",
       "      <td>16</td>\n",
       "      <td>1563.75</td>\n",
       "      <td>879.87</td>\n",
       "      <td>1192.62</td>\n",
       "      <td>1472.01</td>\n",
       "      <td>879.87</td>\n",
       "      <td>1167.60</td>\n",
       "      <td>16.4</td>\n",
       "      <td>151.731061</td>\n",
       "    </tr>\n",
       "    <tr>\n",
       "      <th>2</th>\n",
       "      <td>2</td>\n",
       "      <td>4/16/2013</td>\n",
       "      <td>40.1</td>\n",
       "      <td>21.9</td>\n",
       "      <td>31.7</td>\n",
       "      <td>37.5</td>\n",
       "      <td>21.9</td>\n",
       "      <td>30.4</td>\n",
       "      <td>30.7</td>\n",
       "      <td>0.0</td>\n",
       "      <td>...</td>\n",
       "      <td>13</td>\n",
       "      <td>16</td>\n",
       "      <td>1231.07</td>\n",
       "      <td>672.33</td>\n",
       "      <td>973.19</td>\n",
       "      <td>1151.25</td>\n",
       "      <td>672.33</td>\n",
       "      <td>933.28</td>\n",
       "      <td>18.2</td>\n",
       "      <td>118.211133</td>\n",
       "    </tr>\n",
       "    <tr>\n",
       "      <th>3</th>\n",
       "      <td>3</td>\n",
       "      <td>4/17/2013</td>\n",
       "      <td>36.4</td>\n",
       "      <td>21.0</td>\n",
       "      <td>29.9</td>\n",
       "      <td>34.0</td>\n",
       "      <td>21.0</td>\n",
       "      <td>28.5</td>\n",
       "      <td>27.4</td>\n",
       "      <td>0.0</td>\n",
       "      <td>...</td>\n",
       "      <td>13</td>\n",
       "      <td>16</td>\n",
       "      <td>997.36</td>\n",
       "      <td>575.40</td>\n",
       "      <td>819.26</td>\n",
       "      <td>931.60</td>\n",
       "      <td>575.40</td>\n",
       "      <td>780.90</td>\n",
       "      <td>15.4</td>\n",
       "      <td>113.320354</td>\n",
       "    </tr>\n",
       "    <tr>\n",
       "      <th>4</th>\n",
       "      <td>4</td>\n",
       "      <td>4/18/2013</td>\n",
       "      <td>37.5</td>\n",
       "      <td>21.7</td>\n",
       "      <td>30.6</td>\n",
       "      <td>35.2</td>\n",
       "      <td>21.7</td>\n",
       "      <td>29.2</td>\n",
       "      <td>23.7</td>\n",
       "      <td>0.0</td>\n",
       "      <td>...</td>\n",
       "      <td>13</td>\n",
       "      <td>16</td>\n",
       "      <td>888.75</td>\n",
       "      <td>514.29</td>\n",
       "      <td>725.22</td>\n",
       "      <td>834.24</td>\n",
       "      <td>514.29</td>\n",
       "      <td>692.04</td>\n",
       "      <td>15.8</td>\n",
       "      <td>101.407038</td>\n",
       "    </tr>\n",
       "    <tr>\n",
       "      <th>...</th>\n",
       "      <td>...</td>\n",
       "      <td>...</td>\n",
       "      <td>...</td>\n",
       "      <td>...</td>\n",
       "      <td>...</td>\n",
       "      <td>...</td>\n",
       "      <td>...</td>\n",
       "      <td>...</td>\n",
       "      <td>...</td>\n",
       "      <td>...</td>\n",
       "      <td>...</td>\n",
       "      <td>...</td>\n",
       "      <td>...</td>\n",
       "      <td>...</td>\n",
       "      <td>...</td>\n",
       "      <td>...</td>\n",
       "      <td>...</td>\n",
       "      <td>...</td>\n",
       "      <td>...</td>\n",
       "      <td>...</td>\n",
       "      <td>...</td>\n",
       "    </tr>\n",
       "    <tr>\n",
       "      <th>3552</th>\n",
       "      <td>3552</td>\n",
       "      <td>11/26/2024</td>\n",
       "      <td>25.8</td>\n",
       "      <td>13.6</td>\n",
       "      <td>18.6</td>\n",
       "      <td>25.8</td>\n",
       "      <td>13.6</td>\n",
       "      <td>18.6</td>\n",
       "      <td>65.9</td>\n",
       "      <td>0.0</td>\n",
       "      <td>...</td>\n",
       "      <td>24</td>\n",
       "      <td>48</td>\n",
       "      <td>1700.22</td>\n",
       "      <td>896.24</td>\n",
       "      <td>1225.74</td>\n",
       "      <td>1700.22</td>\n",
       "      <td>896.24</td>\n",
       "      <td>1225.74</td>\n",
       "      <td>12.2</td>\n",
       "      <td>242.171864</td>\n",
       "    </tr>\n",
       "    <tr>\n",
       "      <th>3553</th>\n",
       "      <td>3553</td>\n",
       "      <td>11/27/2024</td>\n",
       "      <td>26.2</td>\n",
       "      <td>12.5</td>\n",
       "      <td>18.4</td>\n",
       "      <td>26.2</td>\n",
       "      <td>12.5</td>\n",
       "      <td>18.4</td>\n",
       "      <td>61.0</td>\n",
       "      <td>0.0</td>\n",
       "      <td>...</td>\n",
       "      <td>24</td>\n",
       "      <td>48</td>\n",
       "      <td>1598.20</td>\n",
       "      <td>762.50</td>\n",
       "      <td>1122.40</td>\n",
       "      <td>1598.20</td>\n",
       "      <td>762.50</td>\n",
       "      <td>1122.40</td>\n",
       "      <td>13.7</td>\n",
       "      <td>236.769595</td>\n",
       "    </tr>\n",
       "    <tr>\n",
       "      <th>3554</th>\n",
       "      <td>3554</td>\n",
       "      <td>11/28/2024</td>\n",
       "      <td>25.8</td>\n",
       "      <td>11.5</td>\n",
       "      <td>17.9</td>\n",
       "      <td>25.8</td>\n",
       "      <td>11.5</td>\n",
       "      <td>17.9</td>\n",
       "      <td>63.1</td>\n",
       "      <td>0.0</td>\n",
       "      <td>...</td>\n",
       "      <td>24</td>\n",
       "      <td>48</td>\n",
       "      <td>1627.98</td>\n",
       "      <td>725.65</td>\n",
       "      <td>1129.49</td>\n",
       "      <td>1627.98</td>\n",
       "      <td>725.65</td>\n",
       "      <td>1129.49</td>\n",
       "      <td>14.3</td>\n",
       "      <td>243.117035</td>\n",
       "    </tr>\n",
       "    <tr>\n",
       "      <th>3555</th>\n",
       "      <td>3555</td>\n",
       "      <td>11/29/2024</td>\n",
       "      <td>25.0</td>\n",
       "      <td>10.6</td>\n",
       "      <td>18.0</td>\n",
       "      <td>25.0</td>\n",
       "      <td>10.6</td>\n",
       "      <td>18.0</td>\n",
       "      <td>60.0</td>\n",
       "      <td>0.0</td>\n",
       "      <td>...</td>\n",
       "      <td>24</td>\n",
       "      <td>48</td>\n",
       "      <td>1500.00</td>\n",
       "      <td>636.00</td>\n",
       "      <td>1080.00</td>\n",
       "      <td>1500.00</td>\n",
       "      <td>636.00</td>\n",
       "      <td>1080.00</td>\n",
       "      <td>14.4</td>\n",
       "      <td>237.638344</td>\n",
       "    </tr>\n",
       "    <tr>\n",
       "      <th>3556</th>\n",
       "      <td>3556</td>\n",
       "      <td>11/30/2024</td>\n",
       "      <td>25.0</td>\n",
       "      <td>11.0</td>\n",
       "      <td>18.0</td>\n",
       "      <td>25.0</td>\n",
       "      <td>11.0</td>\n",
       "      <td>18.0</td>\n",
       "      <td>63.3</td>\n",
       "      <td>0.0</td>\n",
       "      <td>...</td>\n",
       "      <td>24</td>\n",
       "      <td>48</td>\n",
       "      <td>1582.50</td>\n",
       "      <td>696.30</td>\n",
       "      <td>1139.40</td>\n",
       "      <td>1582.50</td>\n",
       "      <td>696.30</td>\n",
       "      <td>1139.40</td>\n",
       "      <td>14.0</td>\n",
       "      <td>242.753801</td>\n",
       "    </tr>\n",
       "  </tbody>\n",
       "</table>\n",
       "<p>3557 rows × 29 columns</p>\n",
       "</div>"
      ],
      "text/plain": [
       "      Unnamed: 0        DATE  tempmax  tempmin  temp  feelslikemax  \\\n",
       "0              0   4/14/2013     37.7     23.1  28.7          35.4   \n",
       "1              1   4/15/2013     37.5     21.1  28.6          35.3   \n",
       "2              2   4/16/2013     40.1     21.9  31.7          37.5   \n",
       "3              3   4/17/2013     36.4     21.0  29.9          34.0   \n",
       "4              4   4/18/2013     37.5     21.7  30.6          35.2   \n",
       "...          ...         ...      ...      ...   ...           ...   \n",
       "3552        3552  11/26/2024     25.8     13.6  18.6          25.8   \n",
       "3553        3553  11/27/2024     26.2     12.5  18.4          26.2   \n",
       "3554        3554  11/28/2024     25.8     11.5  17.9          25.8   \n",
       "3555        3555  11/29/2024     25.0     10.6  18.0          25.0   \n",
       "3556        3556  11/30/2024     25.0     11.0  18.0          25.0   \n",
       "\n",
       "      feelslikemin  feelslike  humidity  precip  ...  year-2000  weekofyear  \\\n",
       "0             23.1       28.1      39.7     2.0  ...         13          15   \n",
       "1             21.1       28.0      41.7     0.0  ...         13          16   \n",
       "2             21.9       30.4      30.7     0.0  ...         13          16   \n",
       "3             21.0       28.5      27.4     0.0  ...         13          16   \n",
       "4             21.7       29.2      23.7     0.0  ...         13          16   \n",
       "...            ...        ...       ...     ...  ...        ...         ...   \n",
       "3552          13.6       18.6      65.9     0.0  ...         24          48   \n",
       "3553          12.5       18.4      61.0     0.0  ...         24          48   \n",
       "3554          11.5       17.9      63.1     0.0  ...         24          48   \n",
       "3555          10.6       18.0      60.0     0.0  ...         24          48   \n",
       "3556          11.0       18.0      63.3     0.0  ...         24          48   \n",
       "\n",
       "      tempmax_humidity  tempmin_humidity temp_humidity  feelslikemax_humidity  \\\n",
       "0              1496.69            917.07       1139.39                1405.38   \n",
       "1              1563.75            879.87       1192.62                1472.01   \n",
       "2              1231.07            672.33        973.19                1151.25   \n",
       "3               997.36            575.40        819.26                 931.60   \n",
       "4               888.75            514.29        725.22                 834.24   \n",
       "...                ...               ...           ...                    ...   \n",
       "3552           1700.22            896.24       1225.74                1700.22   \n",
       "3553           1598.20            762.50       1122.40                1598.20   \n",
       "3554           1627.98            725.65       1129.49                1627.98   \n",
       "3555           1500.00            636.00       1080.00                1500.00   \n",
       "3556           1582.50            696.30       1139.40                1582.50   \n",
       "\n",
       "      feelslikemin_humidity  feelslike_humidity  temp_range  heat_index  \n",
       "0                    917.07             1115.57        14.6  147.178118  \n",
       "1                    879.87             1167.60        16.4  151.731061  \n",
       "2                    672.33              933.28        18.2  118.211133  \n",
       "3                    575.40              780.90        15.4  113.320354  \n",
       "4                    514.29              692.04        15.8  101.407038  \n",
       "...                     ...                 ...         ...         ...  \n",
       "3552                 896.24             1225.74        12.2  242.171864  \n",
       "3553                 762.50             1122.40        13.7  236.769595  \n",
       "3554                 725.65             1129.49        14.3  243.117035  \n",
       "3555                 636.00             1080.00        14.4  237.638344  \n",
       "3556                 696.30             1139.40        14.0  242.753801  \n",
       "\n",
       "[3557 rows x 29 columns]"
      ]
     },
     "execution_count": 4,
     "metadata": {},
     "output_type": "execute_result"
    }
   ],
   "source": [
    "df"
   ]
  },
  {
   "cell_type": "code",
   "execution_count": 5,
   "id": "ca67cc0f-bc36-4297-b04b-384ae1b6ebe1",
   "metadata": {},
   "outputs": [
    {
     "data": {
      "text/plain": [
       "(3557, 29)"
      ]
     },
     "execution_count": 5,
     "metadata": {},
     "output_type": "execute_result"
    }
   ],
   "source": [
    "df.shape"
   ]
  },
  {
   "cell_type": "code",
   "execution_count": 6,
   "id": "bf3bd112-0573-4f7f-94dd-f20ffdb39721",
   "metadata": {},
   "outputs": [
    {
     "data": {
      "text/html": [
       "<div>\n",
       "<style scoped>\n",
       "    .dataframe tbody tr th:only-of-type {\n",
       "        vertical-align: middle;\n",
       "    }\n",
       "\n",
       "    .dataframe tbody tr th {\n",
       "        vertical-align: top;\n",
       "    }\n",
       "\n",
       "    .dataframe thead th {\n",
       "        text-align: right;\n",
       "    }\n",
       "</style>\n",
       "<table border=\"1\" class=\"dataframe\">\n",
       "  <thead>\n",
       "    <tr style=\"text-align: right;\">\n",
       "      <th></th>\n",
       "      <th>Unnamed: 0</th>\n",
       "      <th>DATE</th>\n",
       "      <th>tempmax</th>\n",
       "      <th>tempmin</th>\n",
       "      <th>temp</th>\n",
       "      <th>feelslikemax</th>\n",
       "      <th>feelslikemin</th>\n",
       "      <th>feelslike</th>\n",
       "      <th>humidity</th>\n",
       "      <th>precip</th>\n",
       "      <th>...</th>\n",
       "      <th>year-2000</th>\n",
       "      <th>weekofyear</th>\n",
       "      <th>tempmax_humidity</th>\n",
       "      <th>tempmin_humidity</th>\n",
       "      <th>temp_humidity</th>\n",
       "      <th>feelslikemax_humidity</th>\n",
       "      <th>feelslikemin_humidity</th>\n",
       "      <th>feelslike_humidity</th>\n",
       "      <th>temp_range</th>\n",
       "      <th>heat_index</th>\n",
       "    </tr>\n",
       "  </thead>\n",
       "  <tbody>\n",
       "    <tr>\n",
       "      <th>0</th>\n",
       "      <td>False</td>\n",
       "      <td>False</td>\n",
       "      <td>False</td>\n",
       "      <td>False</td>\n",
       "      <td>False</td>\n",
       "      <td>False</td>\n",
       "      <td>False</td>\n",
       "      <td>False</td>\n",
       "      <td>False</td>\n",
       "      <td>False</td>\n",
       "      <td>...</td>\n",
       "      <td>False</td>\n",
       "      <td>False</td>\n",
       "      <td>False</td>\n",
       "      <td>False</td>\n",
       "      <td>False</td>\n",
       "      <td>False</td>\n",
       "      <td>False</td>\n",
       "      <td>False</td>\n",
       "      <td>False</td>\n",
       "      <td>False</td>\n",
       "    </tr>\n",
       "    <tr>\n",
       "      <th>1</th>\n",
       "      <td>False</td>\n",
       "      <td>False</td>\n",
       "      <td>False</td>\n",
       "      <td>False</td>\n",
       "      <td>False</td>\n",
       "      <td>False</td>\n",
       "      <td>False</td>\n",
       "      <td>False</td>\n",
       "      <td>False</td>\n",
       "      <td>False</td>\n",
       "      <td>...</td>\n",
       "      <td>False</td>\n",
       "      <td>False</td>\n",
       "      <td>False</td>\n",
       "      <td>False</td>\n",
       "      <td>False</td>\n",
       "      <td>False</td>\n",
       "      <td>False</td>\n",
       "      <td>False</td>\n",
       "      <td>False</td>\n",
       "      <td>False</td>\n",
       "    </tr>\n",
       "    <tr>\n",
       "      <th>2</th>\n",
       "      <td>False</td>\n",
       "      <td>False</td>\n",
       "      <td>False</td>\n",
       "      <td>False</td>\n",
       "      <td>False</td>\n",
       "      <td>False</td>\n",
       "      <td>False</td>\n",
       "      <td>False</td>\n",
       "      <td>False</td>\n",
       "      <td>False</td>\n",
       "      <td>...</td>\n",
       "      <td>False</td>\n",
       "      <td>False</td>\n",
       "      <td>False</td>\n",
       "      <td>False</td>\n",
       "      <td>False</td>\n",
       "      <td>False</td>\n",
       "      <td>False</td>\n",
       "      <td>False</td>\n",
       "      <td>False</td>\n",
       "      <td>False</td>\n",
       "    </tr>\n",
       "    <tr>\n",
       "      <th>3</th>\n",
       "      <td>False</td>\n",
       "      <td>False</td>\n",
       "      <td>False</td>\n",
       "      <td>False</td>\n",
       "      <td>False</td>\n",
       "      <td>False</td>\n",
       "      <td>False</td>\n",
       "      <td>False</td>\n",
       "      <td>False</td>\n",
       "      <td>False</td>\n",
       "      <td>...</td>\n",
       "      <td>False</td>\n",
       "      <td>False</td>\n",
       "      <td>False</td>\n",
       "      <td>False</td>\n",
       "      <td>False</td>\n",
       "      <td>False</td>\n",
       "      <td>False</td>\n",
       "      <td>False</td>\n",
       "      <td>False</td>\n",
       "      <td>False</td>\n",
       "    </tr>\n",
       "    <tr>\n",
       "      <th>4</th>\n",
       "      <td>False</td>\n",
       "      <td>False</td>\n",
       "      <td>False</td>\n",
       "      <td>False</td>\n",
       "      <td>False</td>\n",
       "      <td>False</td>\n",
       "      <td>False</td>\n",
       "      <td>False</td>\n",
       "      <td>False</td>\n",
       "      <td>False</td>\n",
       "      <td>...</td>\n",
       "      <td>False</td>\n",
       "      <td>False</td>\n",
       "      <td>False</td>\n",
       "      <td>False</td>\n",
       "      <td>False</td>\n",
       "      <td>False</td>\n",
       "      <td>False</td>\n",
       "      <td>False</td>\n",
       "      <td>False</td>\n",
       "      <td>False</td>\n",
       "    </tr>\n",
       "    <tr>\n",
       "      <th>...</th>\n",
       "      <td>...</td>\n",
       "      <td>...</td>\n",
       "      <td>...</td>\n",
       "      <td>...</td>\n",
       "      <td>...</td>\n",
       "      <td>...</td>\n",
       "      <td>...</td>\n",
       "      <td>...</td>\n",
       "      <td>...</td>\n",
       "      <td>...</td>\n",
       "      <td>...</td>\n",
       "      <td>...</td>\n",
       "      <td>...</td>\n",
       "      <td>...</td>\n",
       "      <td>...</td>\n",
       "      <td>...</td>\n",
       "      <td>...</td>\n",
       "      <td>...</td>\n",
       "      <td>...</td>\n",
       "      <td>...</td>\n",
       "      <td>...</td>\n",
       "    </tr>\n",
       "    <tr>\n",
       "      <th>3552</th>\n",
       "      <td>False</td>\n",
       "      <td>False</td>\n",
       "      <td>False</td>\n",
       "      <td>False</td>\n",
       "      <td>False</td>\n",
       "      <td>False</td>\n",
       "      <td>False</td>\n",
       "      <td>False</td>\n",
       "      <td>False</td>\n",
       "      <td>False</td>\n",
       "      <td>...</td>\n",
       "      <td>False</td>\n",
       "      <td>False</td>\n",
       "      <td>False</td>\n",
       "      <td>False</td>\n",
       "      <td>False</td>\n",
       "      <td>False</td>\n",
       "      <td>False</td>\n",
       "      <td>False</td>\n",
       "      <td>False</td>\n",
       "      <td>False</td>\n",
       "    </tr>\n",
       "    <tr>\n",
       "      <th>3553</th>\n",
       "      <td>False</td>\n",
       "      <td>False</td>\n",
       "      <td>False</td>\n",
       "      <td>False</td>\n",
       "      <td>False</td>\n",
       "      <td>False</td>\n",
       "      <td>False</td>\n",
       "      <td>False</td>\n",
       "      <td>False</td>\n",
       "      <td>False</td>\n",
       "      <td>...</td>\n",
       "      <td>False</td>\n",
       "      <td>False</td>\n",
       "      <td>False</td>\n",
       "      <td>False</td>\n",
       "      <td>False</td>\n",
       "      <td>False</td>\n",
       "      <td>False</td>\n",
       "      <td>False</td>\n",
       "      <td>False</td>\n",
       "      <td>False</td>\n",
       "    </tr>\n",
       "    <tr>\n",
       "      <th>3554</th>\n",
       "      <td>False</td>\n",
       "      <td>False</td>\n",
       "      <td>False</td>\n",
       "      <td>False</td>\n",
       "      <td>False</td>\n",
       "      <td>False</td>\n",
       "      <td>False</td>\n",
       "      <td>False</td>\n",
       "      <td>False</td>\n",
       "      <td>False</td>\n",
       "      <td>...</td>\n",
       "      <td>False</td>\n",
       "      <td>False</td>\n",
       "      <td>False</td>\n",
       "      <td>False</td>\n",
       "      <td>False</td>\n",
       "      <td>False</td>\n",
       "      <td>False</td>\n",
       "      <td>False</td>\n",
       "      <td>False</td>\n",
       "      <td>False</td>\n",
       "    </tr>\n",
       "    <tr>\n",
       "      <th>3555</th>\n",
       "      <td>False</td>\n",
       "      <td>False</td>\n",
       "      <td>False</td>\n",
       "      <td>False</td>\n",
       "      <td>False</td>\n",
       "      <td>False</td>\n",
       "      <td>False</td>\n",
       "      <td>False</td>\n",
       "      <td>False</td>\n",
       "      <td>False</td>\n",
       "      <td>...</td>\n",
       "      <td>False</td>\n",
       "      <td>False</td>\n",
       "      <td>False</td>\n",
       "      <td>False</td>\n",
       "      <td>False</td>\n",
       "      <td>False</td>\n",
       "      <td>False</td>\n",
       "      <td>False</td>\n",
       "      <td>False</td>\n",
       "      <td>False</td>\n",
       "    </tr>\n",
       "    <tr>\n",
       "      <th>3556</th>\n",
       "      <td>False</td>\n",
       "      <td>False</td>\n",
       "      <td>False</td>\n",
       "      <td>False</td>\n",
       "      <td>False</td>\n",
       "      <td>False</td>\n",
       "      <td>False</td>\n",
       "      <td>False</td>\n",
       "      <td>False</td>\n",
       "      <td>False</td>\n",
       "      <td>...</td>\n",
       "      <td>False</td>\n",
       "      <td>False</td>\n",
       "      <td>False</td>\n",
       "      <td>False</td>\n",
       "      <td>False</td>\n",
       "      <td>False</td>\n",
       "      <td>False</td>\n",
       "      <td>False</td>\n",
       "      <td>False</td>\n",
       "      <td>False</td>\n",
       "    </tr>\n",
       "  </tbody>\n",
       "</table>\n",
       "<p>3557 rows × 29 columns</p>\n",
       "</div>"
      ],
      "text/plain": [
       "      Unnamed: 0   DATE  tempmax  tempmin   temp  feelslikemax  feelslikemin  \\\n",
       "0          False  False    False    False  False         False         False   \n",
       "1          False  False    False    False  False         False         False   \n",
       "2          False  False    False    False  False         False         False   \n",
       "3          False  False    False    False  False         False         False   \n",
       "4          False  False    False    False  False         False         False   \n",
       "...          ...    ...      ...      ...    ...           ...           ...   \n",
       "3552       False  False    False    False  False         False         False   \n",
       "3553       False  False    False    False  False         False         False   \n",
       "3554       False  False    False    False  False         False         False   \n",
       "3555       False  False    False    False  False         False         False   \n",
       "3556       False  False    False    False  False         False         False   \n",
       "\n",
       "      feelslike  humidity  precip  ...  year-2000  weekofyear  \\\n",
       "0         False     False   False  ...      False       False   \n",
       "1         False     False   False  ...      False       False   \n",
       "2         False     False   False  ...      False       False   \n",
       "3         False     False   False  ...      False       False   \n",
       "4         False     False   False  ...      False       False   \n",
       "...         ...       ...     ...  ...        ...         ...   \n",
       "3552      False     False   False  ...      False       False   \n",
       "3553      False     False   False  ...      False       False   \n",
       "3554      False     False   False  ...      False       False   \n",
       "3555      False     False   False  ...      False       False   \n",
       "3556      False     False   False  ...      False       False   \n",
       "\n",
       "      tempmax_humidity  tempmin_humidity  temp_humidity  \\\n",
       "0                False             False          False   \n",
       "1                False             False          False   \n",
       "2                False             False          False   \n",
       "3                False             False          False   \n",
       "4                False             False          False   \n",
       "...                ...               ...            ...   \n",
       "3552             False             False          False   \n",
       "3553             False             False          False   \n",
       "3554             False             False          False   \n",
       "3555             False             False          False   \n",
       "3556             False             False          False   \n",
       "\n",
       "      feelslikemax_humidity  feelslikemin_humidity  feelslike_humidity  \\\n",
       "0                     False                  False               False   \n",
       "1                     False                  False               False   \n",
       "2                     False                  False               False   \n",
       "3                     False                  False               False   \n",
       "4                     False                  False               False   \n",
       "...                     ...                    ...                 ...   \n",
       "3552                  False                  False               False   \n",
       "3553                  False                  False               False   \n",
       "3554                  False                  False               False   \n",
       "3555                  False                  False               False   \n",
       "3556                  False                  False               False   \n",
       "\n",
       "      temp_range  heat_index  \n",
       "0          False       False  \n",
       "1          False       False  \n",
       "2          False       False  \n",
       "3          False       False  \n",
       "4          False       False  \n",
       "...          ...         ...  \n",
       "3552       False       False  \n",
       "3553       False       False  \n",
       "3554       False       False  \n",
       "3555       False       False  \n",
       "3556       False       False  \n",
       "\n",
       "[3557 rows x 29 columns]"
      ]
     },
     "execution_count": 6,
     "metadata": {},
     "output_type": "execute_result"
    }
   ],
   "source": [
    "# Null values\n",
    "df.isna()"
   ]
  },
  {
   "cell_type": "code",
   "execution_count": 7,
   "id": "df441c7e-2ed0-49c1-b32e-14edae09d4a5",
   "metadata": {},
   "outputs": [
    {
     "data": {
      "text/plain": [
       "Unnamed: 0               0\n",
       "DATE                     0\n",
       "tempmax                  0\n",
       "tempmin                  0\n",
       "temp                     0\n",
       "feelslikemax             0\n",
       "feelslikemin             0\n",
       "feelslike                0\n",
       "humidity                 0\n",
       "precip                   0\n",
       "precipprob               0\n",
       "precipcover              0\n",
       "windspeed                0\n",
       "sealevelpressure         0\n",
       "conditions               0\n",
       "Year                     0\n",
       "month                    0\n",
       "dayofweek                0\n",
       "dayofyear                0\n",
       "year-2000                0\n",
       "weekofyear               0\n",
       "tempmax_humidity         0\n",
       "tempmin_humidity         0\n",
       "temp_humidity            0\n",
       "feelslikemax_humidity    0\n",
       "feelslikemin_humidity    0\n",
       "feelslike_humidity       0\n",
       "temp_range               0\n",
       "heat_index               0\n",
       "dtype: int64"
      ]
     },
     "execution_count": 7,
     "metadata": {},
     "output_type": "execute_result"
    }
   ],
   "source": [
    "df.isna().sum()"
   ]
  },
  {
   "cell_type": "code",
   "execution_count": 8,
   "id": "c3c803c8-6a5c-4924-85d4-e889ac2346fd",
   "metadata": {},
   "outputs": [
    {
     "name": "stdout",
     "output_type": "stream",
     "text": [
      "tempmax\n",
      "35.0    105\n",
      "36.0     88\n",
      "34.0     86\n",
      "37.0     76\n",
      "33.0     72\n",
      "       ... \n",
      "43.3      1\n",
      "16.2      1\n",
      "11.5      1\n",
      "44.5      1\n",
      "47.9      1\n",
      "Name: count, Length: 313, dtype: int64\n"
     ]
    }
   ],
   "source": [
    " print(df.tempmax.value_counts())"
   ]
  },
  {
   "cell_type": "code",
   "execution_count": 9,
   "id": "02abbdff-10c2-4894-aafd-c6d44697c435",
   "metadata": {},
   "outputs": [
    {
     "name": "stdout",
     "output_type": "stream",
     "text": [
      "tempmin\n",
      "27.0    186\n",
      "28.0    154\n",
      "26.0    149\n",
      "25.0    113\n",
      "29.0     77\n",
      "       ... \n",
      "33.3      1\n",
      "33.2      1\n",
      "4.8       1\n",
      "34.8      1\n",
      "32.4      1\n",
      "Name: count, Length: 296, dtype: int64\n"
     ]
    }
   ],
   "source": [
    "print(df.tempmin.value_counts())"
   ]
  },
  {
   "cell_type": "code",
   "execution_count": 10,
   "id": "418eb80e-453b-4d5e-9398-14d9ea91f08a",
   "metadata": {},
   "outputs": [
    {
     "name": "stdout",
     "output_type": "stream",
     "text": [
      "Training features: ['feelslikemax', 'feelslikemin', 'feelslike', 'humidity', 'precip', 'precipprob', 'precipcover', 'windspeed', 'sealevelpressure', 'Year', 'month', 'dayofweek', 'dayofyear', 'year-2000', 'weekofyear', 'tempmax_humidity', 'tempmin_humidity', 'temp_humidity', 'feelslikemax_humidity', 'feelslikemin_humidity', 'feelslike_humidity', 'temp_range', 'heat_index']\n"
     ]
    }
   ],
   "source": [
    "# ======================\n",
    "# 2) Load & Preprocess Dataset\n",
    "# ======================\n",
    "df = pd.read_csv(\"weather_2013_to_2024.csv\")\n",
    "\n",
    "# Drop index column if exists\n",
    "if \"Unnamed: 0\" in df.columns:\n",
    "    df = df.drop(columns=[\"Unnamed: 0\"])\n",
    "\n",
    "# Ensure DATE is datetime\n",
    "if \"DATE\" in df.columns:\n",
    "    df['DATE'] = pd.to_datetime(df['DATE'])\n",
    "    df = df.sort_values('DATE').reset_index(drop=True)\n",
    "\n",
    "# Target = next-day temperature\n",
    "df['target_next'] = df['temp'].shift(-1)\n",
    "df = df.dropna(subset=['target_next']).reset_index(drop=True)\n",
    "\n",
    "# Drop leaky or duplicate features if exist\n",
    "leaky = ['tempmax','tempmin','temp_lag1','temp_lag2','temp_rollmean7']\n",
    "for c in leaky:\n",
    "    if c in df.columns:\n",
    "        df = df.drop(columns=c)\n",
    "\n",
    "# Drop non-numeric (except DATE for plotting)\n",
    "non_numeric = df.select_dtypes(exclude=[np.number]).columns.tolist()\n",
    "drop_for_features = [c for c in non_numeric if c != 'DATE']\n",
    "df = df.drop(columns=drop_for_features)\n",
    "\n",
    "# Final features\n",
    "target = 'target_next'\n",
    "X_cols = [c for c in df.columns if c not in [target, 'DATE', 'temp']]\n",
    "print(\"Training features:\", X_cols)\n"
   ]
  },
  {
   "cell_type": "code",
   "execution_count": 11,
   "id": "f840dd79-e1f2-4e89-a94e-603706e77385",
   "metadata": {},
   "outputs": [],
   "source": [
    "# ======================\n",
    "# 2.5) Handle Outliers (New Step)\n",
    "# ======================\n",
    "def remove_outliers(df, cols, factor=1.5):\n",
    "    df_clean = df.copy()\n",
    "    for col in cols:\n",
    "        if col in df_clean.columns:\n",
    "            Q1 = df_clean[col].quantile(0.25)\n",
    "            Q3 = df_clean[col].quantile(0.75)\n",
    "            IQR = Q3 - Q1\n",
    "            lower = Q1 - factor*IQR\n",
    "            upper = Q3 + factor*IQR\n",
    "            df_clean = df_clean[(df_clean[col] >= lower) & (df_clean[col] <= upper)]\n",
    "    return df_clean\n",
    "\n",
    "# Columns to check for outliers\n",
    "numeric_cols = ['temp', 'feelslike', 'tempmax', 'tempmin', 'humidity', 'windspeed', 'sealevelpressure', 'precip']\n",
    "df = remove_outliers(df, numeric_cols)\n"
   ]
  },
  {
   "cell_type": "code",
   "execution_count": 12,
   "id": "0f0e561f-ebcf-4831-b10c-8cc121a9fb92",
   "metadata": {},
   "outputs": [
    {
     "name": "stdout",
     "output_type": "stream",
     "text": [
      "Rows → Train: 1852, Val: 397, Test: 398\n"
     ]
    }
   ],
   "source": [
    "# ======================\n",
    "# 3) Train/Validation/Test Split\n",
    "# ======================\n",
    "n = len(df)\n",
    "n_train = int(0.7*n)\n",
    "n_val = int(0.15*n)\n",
    "\n",
    "train = df.iloc[:n_train].reset_index(drop=True)\n",
    "val   = df.iloc[n_train:n_train+n_val].reset_index(drop=True)\n",
    "test  = df.iloc[n_train+n_val:].reset_index(drop=True)\n",
    "\n",
    "X_train, y_train = train[X_cols], train[target]\n",
    "X_val,   y_val   = val[X_cols],   val[target]\n",
    "X_test,  y_test  = test[X_cols],  test[target]\n",
    "\n",
    "print(f\"Rows → Train: {len(train)}, Val: {len(val)}, Test: {len(test)}\")\n"
   ]
  },
  {
   "cell_type": "code",
   "execution_count": 13,
   "id": "e8ff4b1a-c7f2-449a-bbf7-ad4eeb7f972b",
   "metadata": {},
   "outputs": [
    {
     "name": "stdout",
     "output_type": "stream",
     "text": [
      "Best alpha: 0.75\n"
     ]
    }
   ],
   "source": [
    "# ======================\n",
    "# 4) Build Hybrid Model (LR + RF)\n",
    "# ======================\n",
    "num_pipe = Pipeline([\n",
    "    ('imputer', SimpleImputer(strategy='median')),\n",
    "    ('scaler', StandardScaler())\n",
    "])\n",
    "\n",
    "lr_pipe = Pipeline([\n",
    "    ('num', num_pipe),\n",
    "    ('lr', LinearRegression())\n",
    "])\n",
    "\n",
    "rf_pipe = Pipeline([\n",
    "    ('num', SimpleImputer(strategy='median')),\n",
    "    ('rf', RandomForestRegressor(n_estimators=200, random_state=42, n_jobs=-1))\n",
    "])\n",
    "\n",
    "# Train\n",
    "lr_pipe.fit(X_train, y_train)\n",
    "rf_pipe.fit(X_train, y_train)\n",
    "\n",
    "# Validation predictions\n",
    "pred_lr_val = lr_pipe.predict(X_val)\n",
    "pred_rf_val = rf_pipe.predict(X_val)\n",
    "\n",
    "def rmse(y_true,y_pred): return np.sqrt(mean_squared_error(y_true,y_pred))\n",
    "\n",
    "# Find best alpha\n",
    "alphas = np.linspace(0,1,21)\n",
    "best = (np.inf, None)\n",
    "for a in alphas:\n",
    "    hybrid_val = a*pred_lr_val + (1-a)*pred_rf_val\n",
    "    r = rmse(y_val, hybrid_val)\n",
    "    if r < best[0]:\n",
    "        best = (r,a)\n",
    "best_alpha = best[1]\n",
    "print(\"Best alpha:\", best_alpha)\n"
   ]
  },
  {
   "cell_type": "code",
   "execution_count": 14,
   "id": "6d3719d3-2e26-4775-94f2-aeba3e75ff8a",
   "metadata": {},
   "outputs": [
    {
     "name": "stdout",
     "output_type": "stream",
     "text": [
      "Hybrid Test Metrics:\n",
      "MAE: 0.8504188156134734\n",
      "RMSE: 1.104755885667891\n",
      "R2: 0.9784405177855021\n"
     ]
    }
   ],
   "source": [
    "# ======================\n",
    "# 5) Final Train + Test Eval\n",
    "# ======================\n",
    "train_val = pd.concat([train,val]).reset_index(drop=True)\n",
    "X_tv, y_tv = train_val[X_cols], train_val[target]\n",
    "\n",
    "lr_pipe.fit(X_tv,y_tv)\n",
    "rf_pipe.fit(X_tv,y_tv)\n",
    "\n",
    "pred_lr = lr_pipe.predict(X_test)\n",
    "pred_rf = rf_pipe.predict(X_test)\n",
    "pred_hybrid = best_alpha*pred_lr + (1-best_alpha)*pred_rf\n",
    "\n",
    "print(\"Hybrid Test Metrics:\")\n",
    "print(\"MAE:\", mean_absolute_error(y_test,pred_hybrid))\n",
    "print(\"RMSE:\", rmse(y_test,pred_hybrid))\n",
    "print(\"R2:\", r2_score(y_test,pred_hybrid))\n"
   ]
  },
  {
   "cell_type": "code",
   "execution_count": 15,
   "id": "e844f2ad-6217-4e69-9e82-07876c6ffc17",
   "metadata": {},
   "outputs": [
    {
     "name": "stdout",
     "output_type": "stream",
     "text": [
      "Features seen during training: ['feelslikemax' 'feelslikemin' 'feelslike' 'humidity' 'precip'\n",
      " 'precipprob' 'precipcover' 'windspeed' 'sealevelpressure' 'Year' 'month'\n",
      " 'dayofweek' 'dayofyear' 'year-2000' 'weekofyear' 'tempmax_humidity'\n",
      " 'tempmin_humidity' 'temp_humidity' 'feelslikemax_humidity'\n",
      " 'feelslikemin_humidity' 'feelslike_humidity' 'temp_range' 'heat_index']\n"
     ]
    }
   ],
   "source": [
    "print(\"Features seen during training:\", lr_pipe.feature_names_in_)"
   ]
  },
  {
   "cell_type": "code",
   "execution_count": 16,
   "id": "0c43cf12-b0d5-4f69-9266-c5be75688ae3",
   "metadata": {},
   "outputs": [],
   "source": [
    "import joblib\n",
    "import json\n",
    "\n",
    "# Save models\n",
    "joblib.dump(lr_pipe, \"lr_model.pkl\")\n",
    "joblib.dump(rf_pipe, \"rf_model.pkl\")\n",
    "\n",
    "# Save alpha for hybrid\n",
    "with open(\"hybrid_alpha.json\", \"w\") as f:\n",
    "    json.dump({\"alpha\": best_alpha}, f)\n",
    "\n",
    "# Save feature list (important for manual/API inputs later)\n",
    "with open(\"X_cols.json\", \"w\") as f:\n",
    "    json.dump(list(X_train.columns), f)"
   ]
  },
  {
   "cell_type": "code",
   "execution_count": 17,
   "id": "1b3fbe1c-9034-4ca5-9eae-d43d354efc2d",
   "metadata": {},
   "outputs": [
    {
     "name": "stdout",
     "output_type": "stream",
     "text": [
      "Day 1\n",
      "🔹 Actual Temp: 33.8°C\n",
      "   LR Predicted Temp: 32.0°C\n",
      "   RF Predicted Temp: 32.5°C\n",
      "🔹 Predicted Temp (Hybrid): 32.1°C\n",
      "\n",
      "Day 2\n",
      "🔹 Actual Temp: 33.8°C\n",
      "   LR Predicted Temp: 33.3°C\n",
      "   RF Predicted Temp: 33.9°C\n",
      "🔹 Predicted Temp (Hybrid): 33.4°C\n",
      "\n",
      "Day 3\n",
      "🔹 Actual Temp: 34.4°C\n",
      "   LR Predicted Temp: 33.2°C\n",
      "   RF Predicted Temp: 33.6°C\n",
      "🔹 Predicted Temp (Hybrid): 33.3°C\n",
      "\n",
      "Day 4\n",
      "🔹 Actual Temp: 32.8°C\n",
      "   LR Predicted Temp: 33.8°C\n",
      "   RF Predicted Temp: 34.2°C\n",
      "🔹 Predicted Temp (Hybrid): 33.9°C\n",
      "\n",
      "Day 5\n",
      "🔹 Actual Temp: 36.5°C\n",
      "   LR Predicted Temp: 35.0°C\n",
      "   RF Predicted Temp: 35.6°C\n",
      "🔹 Predicted Temp (Hybrid): 35.2°C\n",
      "\n"
     ]
    }
   ],
   "source": [
    "# Pick 5 samples from test set\n",
    "sample_X = X_test.iloc[:5]\n",
    "sample_y = y_test.iloc[:5]\n",
    "\n",
    "pred_lr = lr_pipe.predict(sample_X)\n",
    "pred_rf = rf_pipe.predict(sample_X)\n",
    "sample_pred_hybrid = best_alpha * pred_lr + (1 - best_alpha) * pred_rf\n",
    "\n",
    "for i in range(len(sample_X)):\n",
    "    print(f\"Day {i+1}\")\n",
    "    print(f\"🔹 Actual Temp: {sample_y.iloc[i]:.1f}°C\")\n",
    "    print(f\"   LR Predicted Temp: {pred_lr[i]:.1f}°C\")\n",
    "    print(f\"   RF Predicted Temp: {pred_rf[i]:.1f}°C\")\n",
    "    print(f\"🔹 Predicted Temp (Hybrid): {pred_hybrid[i]:.1f}°C\\n\")"
   ]
  },
  {
   "cell_type": "code",
   "execution_count": 18,
   "id": "6e07b287-33f1-4029-9de6-84bb3cbde717",
   "metadata": {},
   "outputs": [
    {
     "name": "stderr",
     "output_type": "stream",
     "text": [
      " 99%|===================| 394/398 [00:39<00:00]        "
     ]
    },
    {
     "data": {
      "image/png": "[encoded data removed]",
      "text/plain": [
       "<Figure size 800x550 with 1 Axes>"
      ]
     },
     "metadata": {},
     "output_type": "display_data"
    }
   ],
   "source": [
    "# ======================\n",
    "# 6) SHAP Explainability (RF only)\n",
    "# ======================\n",
    "X_train_imp = pd.DataFrame(rf_pipe.named_steps['num'].fit_transform(X_train), columns=X_cols)\n",
    "X_test_imp  = pd.DataFrame(rf_pipe.named_steps['num'].transform(X_test), columns=X_cols)\n",
    "\n",
    "explainer = shap.Explainer(rf_pipe.named_steps['rf'], X_train_imp)\n",
    "shap_values = explainer(X_test_imp)\n",
    "\n",
    "shap.summary_plot(shap_values, X_test_imp, plot_type=\"bar\", max_display=10)\n"
   ]
  },
  {
   "cell_type": "code",
   "execution_count": 19,
   "id": "387147f6-fde5-414e-8f4d-f7457d85eb30",
   "metadata": {},
   "outputs": [
    {
     "data": {
      "application/vnd.plotly.v1+json": {
       "config": {
        "plotlyServerURL": "https://plot.ly"
       },
       "data": [
        {
         "hovertemplate": "variable=actual<br>Date=%{x}<br>Temp (°C)=%{y}<extra></extra>",
         "legendgroup": "actual",
         "line": {
          "color": "#636efa",
          "dash": "solid"
         },
         "marker": {
          "symbol": "circle"
         },
         "mode": "lines",
         "name": "actual",
         "orientation": "v",
         "showlegend": true,
         "type": "scatter",
         "x": [
          "2023-06-07T00:00:00.000000000",
          "2023-06-08T00:00:00.000000000",
          "2023-06-09T00:00:00.000000000",
          "2023-06-10T00:00:00.000000000",
          "2023-06-12T00:00:00.000000000",
          "2023-06-14T00:00:00.000000000",
          "2023-06-15T00:00:00.000000000",
          "2023-06-24T00:00:00.000000000",
          "2023-07-01T00:00:00.000000000",
          "2023-07-02T00:00:00.000000000",
          "2023-07-03T00:00:00.000000000",
          "2023-07-07T00:00:00.000000000",
          "2023-07-17T00:00:00.000000000",
          "2023-07-19T00:00:00.000000000",
          "2023-07-20T00:00:00.000000000",
          "2023-07-21T00:00:00.000000000",
          "2023-07-22T00:00:00.000000000",
          "2023-07-24T00:00:00.000000000",
          "2023-07-25T00:00:00.000000000",
          "2023-07-30T00:00:00.000000000",
          "2023-07-31T00:00:00.000000000",
          "2023-08-01T00:00:00.000000000",
          "2023-08-06T00:00:00.000000000",
          "2023-08-07T00:00:00.000000000",
          "2023-08-08T00:00:00.000000000",
          "2023-08-09T00:00:00.000000000",
          "2023-08-11T00:00:00.000000000",
          "2023-08-12T00:00:00.000000000",
          "2023-08-13T00:00:00.000000000",
          "2023-08-14T00:00:00.000000000",
          "2023-08-17T00:00:00.000000000",
          "2023-08-18T00:00:00.000000000",
          "2023-08-20T00:00:00.000000000",
          "2023-08-21T00:00:00.000000000",
          "2023-08-22T00:00:00.000000000",
          "2023-08-24T00:00:00.000000000",
          "2023-08-25T00:00:00.000000000",
          "2023-08-26T00:00:00.000000000",
          "2023-08-27T00:00:00.000000000",
          "2023-08-28T00:00:00.000000000",
          "2023-08-29T00:00:00.000000000",
          "2023-08-30T00:00:00.000000000",
          "2023-08-31T00:00:00.000000000",
          "2023-09-01T00:00:00.000000000",
          "2023-09-02T00:00:00.000000000",
          "2023-09-03T00:00:00.000000000",
          "2023-09-04T00:00:00.000000000",
          "2023-09-05T00:00:00.000000000",
          "2023-09-06T00:00:00.000000000",
          "2023-09-08T00:00:00.000000000",
          "2023-09-12T00:00:00.000000000",
          "2023-09-13T00:00:00.000000000",
          "2023-09-14T00:00:00.000000000",
          "2023-09-18T00:00:00.000000000",
          "2023-09-19T00:00:00.000000000",
          "2023-09-20T00:00:00.000000000",
          "2023-09-22T00:00:00.000000000",
          "2023-09-25T00:00:00.000000000",
          "2023-09-26T00:00:00.000000000",
          "2023-09-27T00:00:00.000000000",
          "2023-09-28T00:00:00.000000000",
          "2023-09-29T00:00:00.000000000",
          "2023-09-30T00:00:00.000000000",
          "2023-10-01T00:00:00.000000000",
          "2023-10-02T00:00:00.000000000",
          "2023-10-03T00:00:00.000000000",
          "2023-10-04T00:00:00.000000000",
          "2023-10-05T00:00:00.000000000",
          "2023-10-06T00:00:00.000000000",
          "2023-10-07T00:00:00.000000000",
          "2023-10-08T00:00:00.000000000",
          "2023-10-09T00:00:00.000000000",
          "2023-10-10T00:00:00.000000000",
          "2023-10-11T00:00:00.000000000",
          "2023-10-12T00:00:00.000000000",
          "2023-10-13T00:00:00.000000000",
          "2023-10-14T00:00:00.000000000",
          "2023-10-15T00:00:00.000000000",
          "2023-10-18T00:00:00.000000000",
          "2023-10-19T00:00:00.000000000",
          "2023-10-20T00:00:00.000000000",
          "2023-10-21T00:00:00.000000000",
          "2023-10-22T00:00:00.000000000",
          "2023-10-23T00:00:00.000000000",
          "2023-10-24T00:00:00.000000000",
          "2023-10-25T00:00:00.000000000",
          "2023-10-26T00:00:00.000000000",
          "2023-10-27T00:00:00.000000000",
          "2023-10-28T00:00:00.000000000",
          "2023-10-29T00:00:00.000000000",
          "2023-10-30T00:00:00.000000000",
          "2023-10-31T00:00:00.000000000",
          "2023-11-01T00:00:00.000000000",
          "2023-11-02T00:00:00.000000000",
          "2023-11-03T00:00:00.000000000",
          "2023-11-04T00:00:00.000000000",
          "2023-11-05T00:00:00.000000000",
          "2023-11-06T00:00:00.000000000",
          "2023-11-07T00:00:00.000000000",
          "2023-11-08T00:00:00.000000000",
          "2023-11-09T00:00:00.000000000",
          "2023-11-11T00:00:00.000000000",
          "2023-11-12T00:00:00.000000000",
          "2023-11-13T00:00:00.000000000",
          "2023-11-14T00:00:00.000000000",
          "2023-11-15T00:00:00.000000000",
          "2023-11-16T00:00:00.000000000",
          "2023-11-17T00:00:00.000000000",
          "2023-11-18T00:00:00.000000000",
          "2023-11-19T00:00:00.000000000",
          "2023-11-20T00:00:00.000000000",
          "2023-11-21T00:00:00.000000000",
          "2023-11-22T00:00:00.000000000",
          "2023-11-23T00:00:00.000000000",
          "2023-11-24T00:00:00.000000000",
          "2023-11-25T00:00:00.000000000",
          "2023-11-26T00:00:00.000000000",
          "2023-11-29T00:00:00.000000000",
          "2023-11-30T00:00:00.000000000",
          "2023-12-01T00:00:00.000000000",
          "2023-12-02T00:00:00.000000000",
          "2023-12-03T00:00:00.000000000",
          "2023-12-05T00:00:00.000000000",
          "2023-12-06T00:00:00.000000000",
          "2023-12-07T00:00:00.000000000",
          "2023-12-08T00:00:00.000000000",
          "2023-12-09T00:00:00.000000000",
          "2023-12-10T00:00:00.000000000",
          "2023-12-11T00:00:00.000000000",
          "2023-12-12T00:00:00.000000000",
          "2023-12-13T00:00:00.000000000",
          "2023-12-14T00:00:00.000000000",
          "2023-12-15T00:00:00.000000000",
          "2023-12-16T00:00:00.000000000",
          "2023-12-17T00:00:00.000000000",
          "2023-12-18T00:00:00.000000000",
          "2023-12-19T00:00:00.000000000",
          "2023-12-20T00:00:00.000000000",
          "2023-12-21T00:00:00.000000000",
          "2023-12-22T00:00:00.000000000",
          "2023-12-23T00:00:00.000000000",
          "2023-12-24T00:00:00.000000000",
          "2023-12-25T00:00:00.000000000",
          "2023-12-26T00:00:00.000000000",
          "2023-12-27T00:00:00.000000000",
          "2023-12-28T00:00:00.000000000",
          "2023-12-29T00:00:00.000000000",
          "2023-12-30T00:00:00.000000000",
          "2023-12-31T00:00:00.000000000",
          "2024-01-01T00:00:00.000000000",
          "2024-01-02T00:00:00.000000000",
          "2024-01-03T00:00:00.000000000",
          "2024-01-04T00:00:00.000000000",
          "2024-01-05T00:00:00.000000000",
          "2024-01-06T00:00:00.000000000",
          "2024-01-07T00:00:00.000000000",
          "2024-01-08T00:00:00.000000000",
          "2024-01-09T00:00:00.000000000",
          "2024-01-10T00:00:00.000000000",
          "2024-01-11T00:00:00.000000000",
          "2024-01-12T00:00:00.000000000",
          "2024-01-13T00:00:00.000000000",
          "2024-01-14T00:00:00.000000000",
          "2024-01-15T00:00:00.000000000",
          "2024-01-16T00:00:00.000000000",
          "2024-01-17T00:00:00.000000000",
          "2024-01-18T00:00:00.000000000",
          "2024-01-19T00:00:00.000000000",
          "2024-01-20T00:00:00.000000000",
          "2024-01-21T00:00:00.000000000",
          "2024-01-22T00:00:00.000000000",
          "2024-01-23T00:00:00.000000000",
          "2024-01-24T00:00:00.000000000",
          "2024-01-25T00:00:00.000000000",
          "2024-01-26T00:00:00.000000000",
          "2024-01-27T00:00:00.000000000",
          "2024-01-28T00:00:00.000000000",
          "2024-01-29T00:00:00.000000000",
          "2024-01-30T00:00:00.000000000",
          "2024-02-02T00:00:00.000000000",
          "2024-02-03T00:00:00.000000000",
          "2024-02-05T00:00:00.000000000",
          "2024-02-06T00:00:00.000000000",
          "2024-02-07T00:00:00.000000000",
          "2024-02-08T00:00:00.000000000",
          "2024-02-09T00:00:00.000000000",
          "2024-02-10T00:00:00.000000000",
          "2024-02-11T00:00:00.000000000",
          "2024-02-12T00:00:00.000000000",
          "2024-02-13T00:00:00.000000000",
          "2024-02-14T00:00:00.000000000",
          "2024-02-15T00:00:00.000000000",
          "2024-02-16T00:00:00.000000000",
          "2024-02-17T00:00:00.000000000",
          "2024-02-18T00:00:00.000000000",
          "2024-02-19T00:00:00.000000000",
          "2024-02-21T00:00:00.000000000",
          "2024-02-22T00:00:00.000000000",
          "2024-02-23T00:00:00.000000000",
          "2024-02-24T00:00:00.000000000",
          "2024-02-25T00:00:00.000000000",
          "2024-02-26T00:00:00.000000000",
          "2024-02-27T00:00:00.000000000",
          "2024-02-28T00:00:00.000000000",
          "2024-02-29T00:00:00.000000000",
          "2024-03-01T00:00:00.000000000",
          "2024-03-04T00:00:00.000000000",
          "2024-03-05T00:00:00.000000000",
          "2024-03-06T00:00:00.000000000",
          "2024-03-07T00:00:00.000000000",
          "2024-03-08T00:00:00.000000000",
          "2024-03-09T00:00:00.000000000",
          "2024-03-10T00:00:00.000000000",
          "2024-03-11T00:00:00.000000000",
          "2024-03-12T00:00:00.000000000",
          "2024-03-13T00:00:00.000000000",
          "2024-03-14T00:00:00.000000000",
          "2024-03-15T00:00:00.000000000",
          "2024-03-16T00:00:00.000000000",
          "2024-03-17T00:00:00.000000000",
          "2024-03-18T00:00:00.000000000",
          "2024-03-19T00:00:00.000000000",
          "2024-03-20T00:00:00.000000000",
          "2024-03-21T00:00:00.000000000",
          "2024-03-22T00:00:00.000000000",
          "2024-03-23T00:00:00.000000000",
          "2024-03-25T00:00:00.000000000",
          "2024-03-26T00:00:00.000000000",
          "2024-03-27T00:00:00.000000000",
          "2024-03-28T00:00:00.000000000",
          "2024-03-31T00:00:00.000000000",
          "2024-04-01T00:00:00.000000000",
          "2024-04-02T00:00:00.000000000",
          "2024-04-03T00:00:00.000000000",
          "2024-04-04T00:00:00.000000000",
          "2024-04-05T00:00:00.000000000",
          "2024-04-06T00:00:00.000000000",
          "2024-04-07T00:00:00.000000000",
          "2024-04-08T00:00:00.000000000",
          "2024-04-09T00:00:00.000000000",
          "2024-04-10T00:00:00.000000000",
          "2024-04-11T00:00:00.000000000",
          "2024-04-12T00:00:00.000000000",
          "2024-04-15T00:00:00.000000000",
          "2024-04-16T00:00:00.000000000",
          "2024-04-17T00:00:00.000000000",
          "2024-04-18T00:00:00.000000000",
          "2024-04-19T00:00:00.000000000",
          "2024-04-20T00:00:00.000000000",
          "2024-04-21T00:00:00.000000000",
          "2024-04-22T00:00:00.000000000",
          "2024-04-24T00:00:00.000000000",
          "2024-04-25T00:00:00.000000000",
          "2024-04-27T00:00:00.000000000",
          "2024-04-28T00:00:00.000000000",
          "2024-04-29T00:00:00.000000000",
          "2024-04-30T00:00:00.000000000",
          "2024-05-01T00:00:00.000000000",
          "2024-05-02T00:00:00.000000000",
          "2024-05-03T00:00:00.000000000",
          "2024-05-04T00:00:00.000000000",
          "2024-05-05T00:00:00.000000000",
          "2024-05-06T00:00:00.000000000",
          "2024-05-07T00:00:00.000000000",
          "2024-05-08T00:00:00.000000000",
          "2024-05-09T00:00:00.000000000",
          "2024-05-12T00:00:00.000000000",
          "2024-05-13T00:00:00.000000000",
          "2024-05-14T00:00:00.000000000",
          "2024-05-15T00:00:00.000000000",
          "2024-05-16T00:00:00.000000000",
          "2024-05-17T00:00:00.000000000",
          "2024-05-18T00:00:00.000000000",
          "2024-05-19T00:00:00.000000000",
          "2024-05-20T00:00:00.000000000",
          "2024-05-21T00:00:00.000000000",
          "2024-05-22T00:00:00.000000000",
          "2024-05-23T00:00:00.000000000",
          "2024-05-24T00:00:00.000000000",
          "2024-05-25T00:00:00.000000000",
          "2024-05-26T00:00:00.000000000",
          "2024-05-27T00:00:00.000000000",
          "2024-05-28T00:00:00.000000000",
          "2024-05-29T00:00:00.000000000",
          "2024-05-30T00:00:00.000000000",
          "2024-05-31T00:00:00.000000000",
          "2024-06-01T00:00:00.000000000",
          "2024-06-02T00:00:00.000000000",
          "2024-06-03T00:00:00.000000000",
          "2024-06-04T00:00:00.000000000",
          "2024-06-07T00:00:00.000000000",
          "2024-06-08T00:00:00.000000000",
          "2024-06-09T00:00:00.000000000",
          "2024-06-10T00:00:00.000000000",
          "2024-06-11T00:00:00.000000000",
          "2024-06-12T00:00:00.000000000",
          "2024-06-13T00:00:00.000000000",
          "2024-06-14T00:00:00.000000000",
          "2024-06-16T00:00:00.000000000",
          "2024-06-17T00:00:00.000000000",
          "2024-06-18T00:00:00.000000000",
          "2024-06-20T00:00:00.000000000",
          "2024-06-22T00:00:00.000000000",
          "2024-06-25T00:00:00.000000000",
          "2024-06-30T00:00:00.000000000",
          "2024-07-01T00:00:00.000000000",
          "2024-07-07T00:00:00.000000000",
          "2024-07-08T00:00:00.000000000",
          "2024-07-12T00:00:00.000000000",
          "2024-07-16T00:00:00.000000000",
          "2024-07-17T00:00:00.000000000",
          "2024-07-19T00:00:00.000000000",
          "2024-07-27T00:00:00.000000000",
          "2024-07-29T00:00:00.000000000",
          "2024-07-30T00:00:00.000000000",
          "2024-08-05T00:00:00.000000000",
          "2024-08-06T00:00:00.000000000",
          "2024-08-14T00:00:00.000000000",
          "2024-08-18T00:00:00.000000000",
          "2024-08-19T00:00:00.000000000",
          "2024-08-21T00:00:00.000000000",
          "2024-08-23T00:00:00.000000000",
          "2024-08-24T00:00:00.000000000",
          "2024-08-31T00:00:00.000000000",
          "2024-09-01T00:00:00.000000000",
          "2024-09-03T00:00:00.000000000",
          "2024-09-16T00:00:00.000000000",
          "2024-09-17T00:00:00.000000000",
          "2024-09-20T00:00:00.000000000",
          "2024-09-21T00:00:00.000000000",
          "2024-09-22T00:00:00.000000000",
          "2024-09-23T00:00:00.000000000",
          "2024-09-24T00:00:00.000000000",
          "2024-09-25T00:00:00.000000000",
          "2024-09-27T00:00:00.000000000",
          "2024-09-28T00:00:00.000000000",
          "2024-09-29T00:00:00.000000000",
          "2024-09-30T00:00:00.000000000",
          "2024-10-01T00:00:00.000000000",
          "2024-10-02T00:00:00.000000000",
          "2024-10-03T00:00:00.000000000",
          "2024-10-04T00:00:00.000000000",
          "2024-10-05T00:00:00.000000000",
          "2024-10-06T00:00:00.000000000",
          "2024-10-07T00:00:00.000000000",
          "2024-10-08T00:00:00.000000000",
          "2024-10-09T00:00:00.000000000",
          "2024-10-10T00:00:00.000000000",
          "2024-10-11T00:00:00.000000000",
          "2024-10-12T00:00:00.000000000",
          "2024-10-13T00:00:00.000000000",
          "2024-10-14T00:00:00.000000000",
          "2024-10-15T00:00:00.000000000",
          "2024-10-16T00:00:00.000000000",
          "2024-10-17T00:00:00.000000000",
          "2024-10-18T00:00:00.000000000",
          "2024-10-19T00:00:00.000000000",
          "2024-10-20T00:00:00.000000000",
          "2024-10-21T00:00:00.000000000",
          "2024-10-22T00:00:00.000000000",
          "2024-10-23T00:00:00.000000000",
          "2024-10-24T00:00:00.000000000",
          "2024-10-25T00:00:00.000000000",
          "2024-10-26T00:00:00.000000000",
          "2024-10-27T00:00:00.000000000",
          "2024-10-28T00:00:00.000000000",
          "2024-10-29T00:00:00.000000000",
          "2024-10-30T00:00:00.000000000",
          "2024-10-31T00:00:00.000000000",
          "2024-11-01T00:00:00.000000000",
          "2024-11-02T00:00:00.000000000",
          "2024-11-03T00:00:00.000000000",
          "2024-11-04T00:00:00.000000000",
          "2024-11-05T00:00:00.000000000",
          "2024-11-06T00:00:00.000000000",
          "2024-11-07T00:00:00.000000000",
          "2024-11-08T00:00:00.000000000",
          "2024-11-09T00:00:00.000000000",
          "2024-11-10T00:00:00.000000000",
          "2024-11-11T00:00:00.000000000",
          "2024-11-12T00:00:00.000000000",
          "2024-11-13T00:00:00.000000000",
          "2024-11-14T00:00:00.000000000",
          "2024-11-15T00:00:00.000000000",
          "2024-11-16T00:00:00.000000000",
          "2024-11-17T00:00:00.000000000",
          "2024-11-18T00:00:00.000000000",
          "2024-11-19T00:00:00.000000000",
          "2024-11-20T00:00:00.000000000",
          "2024-11-21T00:00:00.000000000",
          "2024-11-22T00:00:00.000000000",
          "2024-11-23T00:00:00.000000000",
          "2024-11-24T00:00:00.000000000",
          "2024-11-25T00:00:00.000000000",
          "2024-11-26T00:00:00.000000000",
          "2024-11-27T00:00:00.000000000",
          "2024-11-28T00:00:00.000000000",
          "2024-11-29T00:00:00.000000000"
         ],
         "xaxis": "x",
         "y": {
          "bdata": "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",
          "dtype": "f8"
         },
         "yaxis": "y"
        },
        {
         "hovertemplate": "variable=pred_hybrid<br>Date=%{x}<br>Temp (°C)=%{y}<extra></extra>",
         "legendgroup": "pred_hybrid",
         "line": {
          "color": "#EF553B",
          "dash": "solid"
         },
         "marker": {
          "symbol": "circle"
         },
         "mode": "lines",
         "name": "pred_hybrid",
         "orientation": "v",
         "showlegend": true,
         "type": "scatter",
         "x": [
          "2023-06-07T00:00:00.000000000",
          "2023-06-08T00:00:00.000000000",
          "2023-06-09T00:00:00.000000000",
          "2023-06-10T00:00:00.000000000",
          "2023-06-12T00:00:00.000000000",
          "2023-06-14T00:00:00.000000000",
          "2023-06-15T00:00:00.000000000",
          "2023-06-24T00:00:00.000000000",
          "2023-07-01T00:00:00.000000000",
          "2023-07-02T00:00:00.000000000",
          "2023-07-03T00:00:00.000000000",
          "2023-07-07T00:00:00.000000000",
          "2023-07-17T00:00:00.000000000",
          "2023-07-19T00:00:00.000000000",
          "2023-07-20T00:00:00.000000000",
          "2023-07-21T00:00:00.000000000",
          "2023-07-22T00:00:00.000000000",
          "2023-07-24T00:00:00.000000000",
          "2023-07-25T00:00:00.000000000",
          "2023-07-30T00:00:00.000000000",
          "2023-07-31T00:00:00.000000000",
          "2023-08-01T00:00:00.000000000",
          "2023-08-06T00:00:00.000000000",
          "2023-08-07T00:00:00.000000000",
          "2023-08-08T00:00:00.000000000",
          "2023-08-09T00:00:00.000000000",
          "2023-08-11T00:00:00.000000000",
          "2023-08-12T00:00:00.000000000",
          "2023-08-13T00:00:00.000000000",
          "2023-08-14T00:00:00.000000000",
          "2023-08-17T00:00:00.000000000",
          "2023-08-18T00:00:00.000000000",
          "2023-08-20T00:00:00.000000000",
          "2023-08-21T00:00:00.000000000",
          "2023-08-22T00:00:00.000000000",
          "2023-08-24T00:00:00.000000000",
          "2023-08-25T00:00:00.000000000",
          "2023-08-26T00:00:00.000000000",
          "2023-08-27T00:00:00.000000000",
          "2023-08-28T00:00:00.000000000",
          "2023-08-29T00:00:00.000000000",
          "2023-08-30T00:00:00.000000000",
          "2023-08-31T00:00:00.000000000",
          "2023-09-01T00:00:00.000000000",
          "2023-09-02T00:00:00.000000000",
          "2023-09-03T00:00:00.000000000",
          "2023-09-04T00:00:00.000000000",
          "2023-09-05T00:00:00.000000000",
          "2023-09-06T00:00:00.000000000",
          "2023-09-08T00:00:00.000000000",
          "2023-09-12T00:00:00.000000000",
          "2023-09-13T00:00:00.000000000",
          "2023-09-14T00:00:00.000000000",
          "2023-09-18T00:00:00.000000000",
          "2023-09-19T00:00:00.000000000",
          "2023-09-20T00:00:00.000000000",
          "2023-09-22T00:00:00.000000000",
          "2023-09-25T00:00:00.000000000",
          "2023-09-26T00:00:00.000000000",
          "2023-09-27T00:00:00.000000000",
          "2023-09-28T00:00:00.000000000",
          "2023-09-29T00:00:00.000000000",
          "2023-09-30T00:00:00.000000000",
          "2023-10-01T00:00:00.000000000",
          "2023-10-02T00:00:00.000000000",
          "2023-10-03T00:00:00.000000000",
          "2023-10-04T00:00:00.000000000",
          "2023-10-05T00:00:00.000000000",
          "2023-10-06T00:00:00.000000000",
          "2023-10-07T00:00:00.000000000",
          "2023-10-08T00:00:00.000000000",
          "2023-10-09T00:00:00.000000000",
          "2023-10-10T00:00:00.000000000",
          "2023-10-11T00:00:00.000000000",
          "2023-10-12T00:00:00.000000000",
          "2023-10-13T00:00:00.000000000",
          "2023-10-14T00:00:00.000000000",
          "2023-10-15T00:00:00.000000000",
          "2023-10-18T00:00:00.000000000",
          "2023-10-19T00:00:00.000000000",
          "2023-10-20T00:00:00.000000000",
          "2023-10-21T00:00:00.000000000",
          "2023-10-22T00:00:00.000000000",
          "2023-10-23T00:00:00.000000000",
          "2023-10-24T00:00:00.000000000",
          "2023-10-25T00:00:00.000000000",
          "2023-10-26T00:00:00.000000000",
          "2023-10-27T00:00:00.000000000",
          "2023-10-28T00:00:00.000000000",
          "2023-10-29T00:00:00.000000000",
          "2023-10-30T00:00:00.000000000",
          "2023-10-31T00:00:00.000000000",
          "2023-11-01T00:00:00.000000000",
          "2023-11-02T00:00:00.000000000",
          "2023-11-03T00:00:00.000000000",
          "2023-11-04T00:00:00.000000000",
          "2023-11-05T00:00:00.000000000",
          "2023-11-06T00:00:00.000000000",
          "2023-11-07T00:00:00.000000000",
          "2023-11-08T00:00:00.000000000",
          "2023-11-09T00:00:00.000000000",
          "2023-11-11T00:00:00.000000000",
          "2023-11-12T00:00:00.000000000",
          "2023-11-13T00:00:00.000000000",
          "2023-11-14T00:00:00.000000000",
          "2023-11-15T00:00:00.000000000",
          "2023-11-16T00:00:00.000000000",
          "2023-11-17T00:00:00.000000000",
          "2023-11-18T00:00:00.000000000",
          "2023-11-19T00:00:00.000000000",
          "2023-11-20T00:00:00.000000000",
          "2023-11-21T00:00:00.000000000",
          "2023-11-22T00:00:00.000000000",
          "2023-11-23T00:00:00.000000000",
          "2023-11-24T00:00:00.000000000",
          "2023-11-25T00:00:00.000000000",
          "2023-11-26T00:00:00.000000000",
          "2023-11-29T00:00:00.000000000",
          "2023-11-30T00:00:00.000000000",
          "2023-12-01T00:00:00.000000000",
          "2023-12-02T00:00:00.000000000",
          "2023-12-03T00:00:00.000000000",
          "2023-12-05T00:00:00.000000000",
          "2023-12-06T00:00:00.000000000",
          "2023-12-07T00:00:00.000000000",
          "2023-12-08T00:00:00.000000000",
          "2023-12-09T00:00:00.000000000",
          "2023-12-10T00:00:00.000000000",
          "2023-12-11T00:00:00.000000000",
          "2023-12-12T00:00:00.000000000",
          "2023-12-13T00:00:00.000000000",
          "2023-12-14T00:00:00.000000000",
          "2023-12-15T00:00:00.000000000",
          "2023-12-16T00:00:00.000000000",
          "2023-12-17T00:00:00.000000000",
          "2023-12-18T00:00:00.000000000",
          "2023-12-19T00:00:00.000000000",
          "2023-12-20T00:00:00.000000000",
          "2023-12-21T00:00:00.000000000",
          "2023-12-22T00:00:00.000000000",
          "2023-12-23T00:00:00.000000000",
          "2023-12-24T00:00:00.000000000",
          "2023-12-25T00:00:00.000000000",
          "2023-12-26T00:00:00.000000000",
          "2023-12-27T00:00:00.000000000",
          "2023-12-28T00:00:00.000000000",
          "2023-12-29T00:00:00.000000000",
          "2023-12-30T00:00:00.000000000",
          "2023-12-31T00:00:00.000000000",
          "2024-01-01T00:00:00.000000000",
          "2024-01-02T00:00:00.000000000",
          "2024-01-03T00:00:00.000000000",
          "2024-01-04T00:00:00.000000000",
          "2024-01-05T00:00:00.000000000",
          "2024-01-06T00:00:00.000000000",
          "2024-01-07T00:00:00.000000000",
          "2024-01-08T00:00:00.000000000",
          "2024-01-09T00:00:00.000000000",
          "2024-01-10T00:00:00.000000000",
          "2024-01-11T00:00:00.000000000",
          "2024-01-12T00:00:00.000000000",
          "2024-01-13T00:00:00.000000000",
          "2024-01-14T00:00:00.000000000",
          "2024-01-15T00:00:00.000000000",
          "2024-01-16T00:00:00.000000000",
          "2024-01-17T00:00:00.000000000",
          "2024-01-18T00:00:00.000000000",
          "2024-01-19T00:00:00.000000000",
          "2024-01-20T00:00:00.000000000",
          "2024-01-21T00:00:00.000000000",
          "2024-01-22T00:00:00.000000000",
          "2024-01-23T00:00:00.000000000",
          "2024-01-24T00:00:00.000000000",
          "2024-01-25T00:00:00.000000000",
          "2024-01-26T00:00:00.000000000",
          "2024-01-27T00:00:00.000000000",
          "2024-01-28T00:00:00.000000000",
          "2024-01-29T00:00:00.000000000",
          "2024-01-30T00:00:00.000000000",
          "2024-02-02T00:00:00.000000000",
          "2024-02-03T00:00:00.000000000",
          "2024-02-05T00:00:00.000000000",
          "2024-02-06T00:00:00.000000000",
          "2024-02-07T00:00:00.000000000",
          "2024-02-08T00:00:00.000000000",
          "2024-02-09T00:00:00.000000000",
          "2024-02-10T00:00:00.000000000",
          "2024-02-11T00:00:00.000000000",
          "2024-02-12T00:00:00.000000000",
          "2024-02-13T00:00:00.000000000",
          "2024-02-14T00:00:00.000000000",
          "2024-02-15T00:00:00.000000000",
          "2024-02-16T00:00:00.000000000",
          "2024-02-17T00:00:00.000000000",
          "2024-02-18T00:00:00.000000000",
          "2024-02-19T00:00:00.000000000",
          "2024-02-21T00:00:00.000000000",
          "2024-02-22T00:00:00.000000000",
          "2024-02-23T00:00:00.000000000",
          "2024-02-24T00:00:00.000000000",
          "2024-02-25T00:00:00.000000000",
          "2024-02-26T00:00:00.000000000",
          "2024-02-27T00:00:00.000000000",
          "2024-02-28T00:00:00.000000000",
          "2024-02-29T00:00:00.000000000",
          "2024-03-01T00:00:00.000000000",
          "2024-03-04T00:00:00.000000000",
          "2024-03-05T00:00:00.000000000",
          "2024-03-06T00:00:00.000000000",
          "2024-03-07T00:00:00.000000000",
          "2024-03-08T00:00:00.000000000",
          "2024-03-09T00:00:00.000000000",
          "2024-03-10T00:00:00.000000000",
          "2024-03-11T00:00:00.000000000",
          "2024-03-12T00:00:00.000000000",
          "2024-03-13T00:00:00.000000000",
          "2024-03-14T00:00:00.000000000",
          "2024-03-15T00:00:00.000000000",
          "2024-03-16T00:00:00.000000000",
          "2024-03-17T00:00:00.000000000",
          "2024-03-18T00:00:00.000000000",
          "2024-03-19T00:00:00.000000000",
          "2024-03-20T00:00:00.000000000",
          "2024-03-21T00:00:00.000000000",
          "2024-03-22T00:00:00.000000000",
          "2024-03-23T00:00:00.000000000",
          "2024-03-25T00:00:00.000000000",
          "2024-03-26T00:00:00.000000000",
          "2024-03-27T00:00:00.000000000",
          "2024-03-28T00:00:00.000000000",
          "2024-03-31T00:00:00.000000000",
          "2024-04-01T00:00:00.000000000",
          "2024-04-02T00:00:00.000000000",
          "2024-04-03T00:00:00.000000000",
          "2024-04-04T00:00:00.000000000",
          "2024-04-05T00:00:00.000000000",
          "2024-04-06T00:00:00.000000000",
          "2024-04-07T00:00:00.000000000",
          "2024-04-08T00:00:00.000000000",
          "2024-04-09T00:00:00.000000000",
          "2024-04-10T00:00:00.000000000",
          "2024-04-11T00:00:00.000000000",
          "2024-04-12T00:00:00.000000000",
          "2024-04-15T00:00:00.000000000",
          "2024-04-16T00:00:00.000000000",
          "2024-04-17T00:00:00.000000000",
          "2024-04-18T00:00:00.000000000",
          "2024-04-19T00:00:00.000000000",
          "2024-04-20T00:00:00.000000000",
          "2024-04-21T00:00:00.000000000",
          "2024-04-22T00:00:00.000000000",
          "2024-04-24T00:00:00.000000000",
          "2024-04-25T00:00:00.000000000",
          "2024-04-27T00:00:00.000000000",
          "2024-04-28T00:00:00.000000000",
          "2024-04-29T00:00:00.000000000",
          "2024-04-30T00:00:00.000000000",
          "2024-05-01T00:00:00.000000000",
          "2024-05-02T00:00:00.000000000",
          "2024-05-03T00:00:00.000000000",
          "2024-05-04T00:00:00.000000000",
          "2024-05-05T00:00:00.000000000",
          "2024-05-06T00:00:00.000000000",
          "2024-05-07T00:00:00.000000000",
          "2024-05-08T00:00:00.000000000",
          "2024-05-09T00:00:00.000000000",
          "2024-05-12T00:00:00.000000000",
          "2024-05-13T00:00:00.000000000",
          "2024-05-14T00:00:00.000000000",
          "2024-05-15T00:00:00.000000000",
          "2024-05-16T00:00:00.000000000",
          "2024-05-17T00:00:00.000000000",
          "2024-05-18T00:00:00.000000000",
          "2024-05-19T00:00:00.000000000",
          "2024-05-20T00:00:00.000000000",
          "2024-05-21T00:00:00.000000000",
          "2024-05-22T00:00:00.000000000",
          "2024-05-23T00:00:00.000000000",
          "2024-05-24T00:00:00.000000000",
          "2024-05-25T00:00:00.000000000",
          "2024-05-26T00:00:00.000000000",
          "2024-05-27T00:00:00.000000000",
          "2024-05-28T00:00:00.000000000",
          "2024-05-29T00:00:00.000000000",
          "2024-05-30T00:00:00.000000000",
          "2024-05-31T00:00:00.000000000",
          "2024-06-01T00:00:00.000000000",
          "2024-06-02T00:00:00.000000000",
          "2024-06-03T00:00:00.000000000",
          "2024-06-04T00:00:00.000000000",
          "2024-06-07T00:00:00.000000000",
          "2024-06-08T00:00:00.000000000",
          "2024-06-09T00:00:00.000000000",
          "2024-06-10T00:00:00.000000000",
          "2024-06-11T00:00:00.000000000",
          "2024-06-12T00:00:00.000000000",
          "2024-06-13T00:00:00.000000000",
          "2024-06-14T00:00:00.000000000",
          "2024-06-16T00:00:00.000000000",
          "2024-06-17T00:00:00.000000000",
          "2024-06-18T00:00:00.000000000",
          "2024-06-20T00:00:00.000000000",
          "2024-06-22T00:00:00.000000000",
          "2024-06-25T00:00:00.000000000",
          "2024-06-30T00:00:00.000000000",
          "2024-07-01T00:00:00.000000000",
          "2024-07-07T00:00:00.000000000",
          "2024-07-08T00:00:00.000000000",
          "2024-07-12T00:00:00.000000000",
          "2024-07-16T00:00:00.000000000",
          "2024-07-17T00:00:00.000000000",
          "2024-07-19T00:00:00.000000000",
          "2024-07-27T00:00:00.000000000",
          "2024-07-29T00:00:00.000000000",
          "2024-07-30T00:00:00.000000000",
          "2024-08-05T00:00:00.000000000",
          "2024-08-06T00:00:00.000000000",
          "2024-08-14T00:00:00.000000000",
          "2024-08-18T00:00:00.000000000",
          "2024-08-19T00:00:00.000000000",
          "2024-08-21T00:00:00.000000000",
          "2024-08-23T00:00:00.000000000",
          "2024-08-24T00:00:00.000000000",
          "2024-08-31T00:00:00.000000000",
          "2024-09-01T00:00:00.000000000",
          "2024-09-03T00:00:00.000000000",
          "2024-09-16T00:00:00.000000000",
          "2024-09-17T00:00:00.000000000",
          "2024-09-20T00:00:00.000000000",
          "2024-09-21T00:00:00.000000000",
          "2024-09-22T00:00:00.000000000",
          "2024-09-23T00:00:00.000000000",
          "2024-09-24T00:00:00.000000000",
          "2024-09-25T00:00:00.000000000",
          "2024-09-27T00:00:00.000000000",
          "2024-09-28T00:00:00.000000000",
          "2024-09-29T00:00:00.000000000",
          "2024-09-30T00:00:00.000000000",
          "2024-10-01T00:00:00.000000000",
          "2024-10-02T00:00:00.000000000",
          "2024-10-03T00:00:00.000000000",
          "2024-10-04T00:00:00.000000000",
          "2024-10-05T00:00:00.000000000",
          "2024-10-06T00:00:00.000000000",
          "2024-10-07T00:00:00.000000000",
          "2024-10-08T00:00:00.000000000",
          "2024-10-09T00:00:00.000000000",
          "2024-10-10T00:00:00.000000000",
          "2024-10-11T00:00:00.000000000",
          "2024-10-12T00:00:00.000000000",
          "2024-10-13T00:00:00.000000000",
          "2024-10-14T00:00:00.000000000",
          "2024-10-15T00:00:00.000000000",
          "2024-10-16T00:00:00.000000000",
          "2024-10-17T00:00:00.000000000",
          "2024-10-18T00:00:00.000000000",
          "2024-10-19T00:00:00.000000000",
          "2024-10-20T00:00:00.000000000",
          "2024-10-21T00:00:00.000000000",
          "2024-10-22T00:00:00.000000000",
          "2024-10-23T00:00:00.000000000",
          "2024-10-24T00:00:00.000000000",
          "2024-10-25T00:00:00.000000000",
          "2024-10-26T00:00:00.000000000",
          "2024-10-27T00:00:00.000000000",
          "2024-10-28T00:00:00.000000000",
          "2024-10-29T00:00:00.000000000",
          "2024-10-30T00:00:00.000000000",
          "2024-10-31T00:00:00.000000000",
          "2024-11-01T00:00:00.000000000",
          "2024-11-02T00:00:00.000000000",
          "2024-11-03T00:00:00.000000000",
          "2024-11-04T00:00:00.000000000",
          "2024-11-05T00:00:00.000000000",
          "2024-11-06T00:00:00.000000000",
          "2024-11-07T00:00:00.000000000",
          "2024-11-08T00:00:00.000000000",
          "2024-11-09T00:00:00.000000000",
          "2024-11-10T00:00:00.000000000",
          "2024-11-11T00:00:00.000000000",
          "2024-11-12T00:00:00.000000000",
          "2024-11-13T00:00:00.000000000",
          "2024-11-14T00:00:00.000000000",
          "2024-11-15T00:00:00.000000000",
          "2024-11-16T00:00:00.000000000",
          "2024-11-17T00:00:00.000000000",
          "2024-11-18T00:00:00.000000000",
          "2024-11-19T00:00:00.000000000",
          "2024-11-20T00:00:00.000000000",
          "2024-11-21T00:00:00.000000000",
          "2024-11-22T00:00:00.000000000",
          "2024-11-23T00:00:00.000000000",
          "2024-11-24T00:00:00.000000000",
          "2024-11-25T00:00:00.000000000",
          "2024-11-26T00:00:00.000000000",
          "2024-11-27T00:00:00.000000000",
          "2024-11-28T00:00:00.000000000",
          "2024-11-29T00:00:00.000000000"
         ],
         "xaxis": "x",
         "y": {
          "bdata": "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",
          "dtype": "f8"
         },
         "yaxis": "y"
        }
       ],
       "layout": {
        "legend": {
         "title": {
          "text": "variable"
         },
         "tracegroupgap": 0
        },
        "template": {
         "data": {
          "bar": [
           {
            "error_x": {
             "color": "#2a3f5f"
            },
            "error_y": {
             "color": "#2a3f5f"
            },
            "marker": {
             "line": {
              "color": "#E5ECF6",
              "width": 0.5
             },
             "pattern": {
              "fillmode": "overlay",
              "size": 10,
              "solidity": 0.2
             }
            },
            "type": "bar"
           }
          ],
          "barpolar": [
           {
            "marker": {
             "line": {
              "color": "#E5ECF6",
              "width": 0.5
             },
             "pattern": {
              "fillmode": "overlay",
              "size": 10,
              "solidity": 0.2
             }
            },
            "type": "barpolar"
           }
          ],
          "carpet": [
           {
            "aaxis": {
             "endlinecolor": "#2a3f5f",
             "gridcolor": "white",
             "linecolor": "white",
             "minorgridcolor": "white",
             "startlinecolor": "#2a3f5f"
            },
            "baxis": {
             "endlinecolor": "#2a3f5f",
             "gridcolor": "white",
             "linecolor": "white",
             "minorgridcolor": "white",
             "startlinecolor": "#2a3f5f"
            },
            "type": "carpet"
           }
          ],
          "choropleth": [
           {
            "colorbar": {
             "outlinewidth": 0,
             "ticks": ""
            },
            "type": "choropleth"
           }
          ],
          "contour": [
           {
            "colorbar": {
             "outlinewidth": 0,
             "ticks": ""
            },
            "colorscale": [
             [
              0,
              "#0d0887"
             ],
             [
              0.1111111111111111,
              "#46039f"
             ],
             [
              0.2222222222222222,
              "#7201a8"
             ],
             [
              0.3333333333333333,
              "#9c179e"
             ],
             [
              0.4444444444444444,
              "#bd3786"
             ],
             [
              0.5555555555555556,
              "#d8576b"
             ],
             [
              0.6666666666666666,
              "#ed7953"
             ],
             [
              0.7777777777777778,
              "#fb9f3a"
             ],
             [
              0.8888888888888888,
              "#fdca26"
             ],
             [
              1,
              "#f0f921"
             ]
            ],
            "type": "contour"
           }
          ],
          "contourcarpet": [
           {
            "colorbar": {
             "outlinewidth": 0,
             "ticks": ""
            },
            "type": "contourcarpet"
           }
          ],
          "heatmap": [
           {
            "colorbar": {
             "outlinewidth": 0,
             "ticks": ""
            },
            "colorscale": [
             [
              0,
              "#0d0887"
             ],
             [
              0.1111111111111111,
              "#46039f"
             ],
             [
              0.2222222222222222,
              "#7201a8"
             ],
             [
              0.3333333333333333,
              "#9c179e"
             ],
             [
              0.4444444444444444,
              "#bd3786"
             ],
             [
              0.5555555555555556,
              "#d8576b"
             ],
             [
              0.6666666666666666,
              "#ed7953"
             ],
             [
              0.7777777777777778,
              "#fb9f3a"
             ],
             [
              0.8888888888888888,
              "#fdca26"
             ],
             [
              1,
              "#f0f921"
             ]
            ],
            "type": "heatmap"
           }
          ],
          "histogram": [
           {
            "marker": {
             "pattern": {
              "fillmode": "overlay",
              "size": 10,
              "solidity": 0.2
             }
            },
            "type": "histogram"
           }
          ],
          "histogram2d": [
           {
            "colorbar": {
             "outlinewidth": 0,
             "ticks": ""
            },
            "colorscale": [
             [
              0,
              "#0d0887"
             ],
             [
              0.1111111111111111,
              "#46039f"
             ],
             [
              0.2222222222222222,
              "#7201a8"
             ],
             [
              0.3333333333333333,
              "#9c179e"
             ],
             [
              0.4444444444444444,
              "#bd3786"
             ],
             [
              0.5555555555555556,
              "#d8576b"
             ],
             [
              0.6666666666666666,
              "#ed7953"
             ],
             [
              0.7777777777777778,
              "#fb9f3a"
             ],
             [
              0.8888888888888888,
              "#fdca26"
             ],
             [
              1,
              "#f0f921"
             ]
            ],
            "type": "histogram2d"
           }
          ],
          "histogram2dcontour": [
           {
            "colorbar": {
             "outlinewidth": 0,
             "ticks": ""
            },
            "colorscale": [
             [
              0,
              "#0d0887"
             ],
             [
              0.1111111111111111,
              "#46039f"
             ],
             [
              0.2222222222222222,
              "#7201a8"
             ],
             [
              0.3333333333333333,
              "#9c179e"
             ],
             [
              0.4444444444444444,
              "#bd3786"
             ],
             [
              0.5555555555555556,
              "#d8576b"
             ],
             [
              0.6666666666666666,
              "#ed7953"
             ],
             [
              0.7777777777777778,
              "#fb9f3a"
             ],
             [
              0.8888888888888888,
              "#fdca26"
             ],
             [
              1,
              "#f0f921"
             ]
            ],
            "type": "histogram2dcontour"
           }
          ],
          "mesh3d": [
           {
            "colorbar": {
             "outlinewidth": 0,
             "ticks": ""
            },
            "type": "mesh3d"
           }
          ],
          "parcoords": [
           {
            "line": {
             "colorbar": {
              "outlinewidth": 0,
              "ticks": ""
             }
            },
            "type": "parcoords"
           }
          ],
          "pie": [
           {
            "automargin": true,
            "type": "pie"
           }
          ],
          "scatter": [
           {
            "fillpattern": {
             "fillmode": "overlay",
             "size": 10,
             "solidity": 0.2
            },
            "type": "scatter"
           }
          ],
          "scatter3d": [
           {
            "line": {
             "colorbar": {
              "outlinewidth": 0,
              "ticks": ""
             }
            },
            "marker": {
             "colorbar": {
              "outlinewidth": 0,
              "ticks": ""
             }
            },
            "type": "scatter3d"
           }
          ],
          "scattercarpet": [
           {
            "marker": {
             "colorbar": {
              "outlinewidth": 0,
              "ticks": ""
             }
            },
            "type": "scattercarpet"
           }
          ],
          "scattergeo": [
           {
            "marker": {
             "colorbar": {
              "outlinewidth": 0,
              "ticks": ""
             }
            },
            "type": "scattergeo"
           }
          ],
          "scattergl": [
           {
            "marker": {
             "colorbar": {
              "outlinewidth": 0,
              "ticks": ""
             }
            },
            "type": "scattergl"
           }
          ],
          "scattermap": [
           {
            "marker": {
             "colorbar": {
              "outlinewidth": 0,
              "ticks": ""
             }
            },
            "type": "scattermap"
           }
          ],
          "scattermapbox": [
           {
            "marker": {
             "colorbar": {
              "outlinewidth": 0,
              "ticks": ""
             }
            },
            "type": "scattermapbox"
           }
          ],
          "scatterpolar": [
           {
            "marker": {
             "colorbar": {
              "outlinewidth": 0,
              "ticks": ""
             }
            },
            "type": "scatterpolar"
           }
          ],
          "scatterpolargl": [
           {
            "marker": {
             "colorbar": {
              "outlinewidth": 0,
              "ticks": ""
             }
            },
            "type": "scatterpolargl"
           }
          ],
          "scatterternary": [
           {
            "marker": {
             "colorbar": {
              "outlinewidth": 0,
              "ticks": ""
             }
            },
            "type": "scatterternary"
           }
          ],
          "surface": [
           {
            "colorbar": {
             "outlinewidth": 0,
             "ticks": ""
            },
            "colorscale": [
             [
              0,
              "#0d0887"
             ],
             [
              0.1111111111111111,
              "#46039f"
             ],
             [
              0.2222222222222222,
              "#7201a8"
             ],
             [
              0.3333333333333333,
              "#9c179e"
             ],
             [
              0.4444444444444444,
              "#bd3786"
             ],
             [
              0.5555555555555556,
              "#d8576b"
             ],
             [
              0.6666666666666666,
              "#ed7953"
             ],
             [
              0.7777777777777778,
              "#fb9f3a"
             ],
             [
              0.8888888888888888,
              "#fdca26"
             ],
             [
              1,
              "#f0f921"
             ]
            ],
            "type": "surface"
           }
          ],
          "table": [
           {
            "cells": {
             "fill": {
              "color": "#EBF0F8"
             },
             "line": {
              "color": "white"
             }
            },
            "header": {
             "fill": {
              "color": "#C8D4E3"
             },
             "line": {
              "color": "white"
             }
            },
            "type": "table"
           }
          ]
         },
         "layout": {
          "annotationdefaults": {
           "arrowcolor": "#2a3f5f",
           "arrowhead": 0,
           "arrowwidth": 1
          },
          "autotypenumbers": "strict",
          "coloraxis": {
           "colorbar": {
            "outlinewidth": 0,
            "ticks": ""
           }
          },
          "colorscale": {
           "diverging": [
            [
             0,
             "#8e0152"
            ],
            [
             0.1,
             "#c51b7d"
            ],
            [
             0.2,
             "#de77ae"
            ],
            [
             0.3,
             "#f1b6da"
            ],
            [
             0.4,
             "#fde0ef"
            ],
            [
             0.5,
             "#f7f7f7"
            ],
            [
             0.6,
             "#e6f5d0"
            ],
            [
             0.7,
             "#b8e186"
            ],
            [
             0.8,
             "#7fbc41"
            ],
            [
             0.9,
             "#4d9221"
            ],
            [
             1,
             "#276419"
            ]
           ],
           "sequential": [
            [
             0,
             "#0d0887"
            ],
            [
             0.1111111111111111,
             "#46039f"
            ],
            [
             0.2222222222222222,
             "#7201a8"
            ],
            [
             0.3333333333333333,
             "#9c179e"
            ],
            [
             0.4444444444444444,
             "#bd3786"
            ],
            [
             0.5555555555555556,
             "#d8576b"
            ],
            [
             0.6666666666666666,
             "#ed7953"
            ],
            [
             0.7777777777777778,
             "#fb9f3a"
            ],
            [
             0.8888888888888888,
             "#fdca26"
            ],
            [
             1,
             "#f0f921"
            ]
           ],
           "sequentialminus": [
            [
             0,
             "#0d0887"
            ],
            [
             0.1111111111111111,
             "#46039f"
            ],
            [
             0.2222222222222222,
             "#7201a8"
            ],
            [
             0.3333333333333333,
             "#9c179e"
            ],
            [
             0.4444444444444444,
             "#bd3786"
            ],
            [
             0.5555555555555556,
             "#d8576b"
            ],
            [
             0.6666666666666666,
             "#ed7953"
            ],
            [
             0.7777777777777778,
             "#fb9f3a"
            ],
            [
             0.8888888888888888,
             "#fdca26"
            ],
            [
             1,
             "#f0f921"
            ]
           ]
          },
          "colorway": [
           "#636efa",
           "#EF553B",
           "#00cc96",
           "#ab63fa",
           "#FFA15A",
           "#19d3f3",
           "#FF6692",
           "#B6E880",
           "#FF97FF",
           "#FECB52"
          ],
          "font": {
           "color": "#2a3f5f"
          },
          "geo": {
           "bgcolor": "white",
           "lakecolor": "white",
           "landcolor": "#E5ECF6",
           "showlakes": true,
           "showland": true,
           "subunitcolor": "white"
          },
          "hoverlabel": {
           "align": "left"
          },
          "hovermode": "closest",
          "mapbox": {
           "style": "light"
          },
          "paper_bgcolor": "white",
          "plot_bgcolor": "#E5ECF6",
          "polar": {
           "angularaxis": {
            "gridcolor": "white",
            "linecolor": "white",
            "ticks": ""
           },
           "bgcolor": "#E5ECF6",
           "radialaxis": {
            "gridcolor": "white",
            "linecolor": "white",
            "ticks": ""
           }
          },
          "scene": {
           "xaxis": {
            "backgroundcolor": "#E5ECF6",
            "gridcolor": "white",
            "gridwidth": 2,
            "linecolor": "white",
            "showbackground": true,
            "ticks": "",
            "zerolinecolor": "white"
           },
           "yaxis": {
            "backgroundcolor": "#E5ECF6",
            "gridcolor": "white",
            "gridwidth": 2,
            "linecolor": "white",
            "showbackground": true,
            "ticks": "",
            "zerolinecolor": "white"
           },
           "zaxis": {
            "backgroundcolor": "#E5ECF6",
            "gridcolor": "white",
            "gridwidth": 2,
            "linecolor": "white",
            "showbackground": true,
            "ticks": "",
            "zerolinecolor": "white"
           }
          },
          "shapedefaults": {
           "line": {
            "color": "#2a3f5f"
           }
          },
          "ternary": {
           "aaxis": {
            "gridcolor": "white",
            "linecolor": "white",
            "ticks": ""
           },
           "baxis": {
            "gridcolor": "white",
            "linecolor": "white",
            "ticks": ""
           },
           "bgcolor": "#E5ECF6",
           "caxis": {
            "gridcolor": "white",
            "linecolor": "white",
            "ticks": ""
           }
          },
          "title": {
           "x": 0.05
          },
          "xaxis": {
           "automargin": true,
           "gridcolor": "white",
           "linecolor": "white",
           "ticks": "",
           "title": {
            "standoff": 15
           },
           "zerolinecolor": "white",
           "zerolinewidth": 2
          },
          "yaxis": {
           "automargin": true,
           "gridcolor": "white",
           "linecolor": "white",
           "ticks": "",
           "title": {
            "standoff": 15
           },
           "zerolinecolor": "white",
           "zerolinewidth": 2
          }
         }
        },
        "title": {
         "text": "Actual vs Hybrid Prediction (Test Set)"
        },
        "xaxis": {
         "anchor": "y",
         "domain": [
          0,
          1
         ],
         "title": {
          "text": "Date"
         }
        },
        "yaxis": {
         "anchor": "x",
         "domain": [
          0,
          1
         ],
         "title": {
          "text": "Temp (°C)"
         }
        }
       }
      },
      "image/png": "[encoded data removed]"
     },
     "metadata": {},
     "output_type": "display_data"
    }
   ],
   "source": [
    "# ======================\n",
    "# 7) Interactive Visualization with Plotly\n",
    "# ======================\n",
    "\n",
    "# Use full test predictions (from Step 5)\n",
    "pred_df = test.copy()\n",
    "pred_df['actual'] = y_test.values\n",
    "pred_df['pred_hybrid'] = pred_hybrid  # <-- full 534 predictions\n",
    "\n",
    "fig = px.line(\n",
    "    pred_df,\n",
    "    x=\"DATE\",\n",
    "    y=[\"actual\", \"pred_hybrid\"],\n",
    "    labels={\"value\": \"Temp (°C)\", \"DATE\": \"Date\"},\n",
    "    title=\"Actual vs Hybrid Prediction (Test Set)\"\n",
    ")\n",
    "fig.show()"
   ]
  },
  {
   "cell_type": "code",
   "execution_count": 20,
   "id": "ccea6fb0-1b4f-4fbc-84ba-c37538e4b211",
   "metadata": {},
   "outputs": [
    {
     "name": "stdin",
     "output_type": "stream",
     "text": [
      "Enter today's humidity (%):  88\n",
      "Enter today's pressure (hPa):  1011\n",
      "Enter today's wind speed (m/s):  4.4444\n",
      "Enter today's cloud cover (%):  78\n"
     ]
    },
    {
     "name": "stdout",
     "output_type": "stream",
     "text": [
      "\n",
      "📊 Prediction Results\n",
      "Linear Regression: 26.0 °C\n",
      "Random Forest: 24.9 °C\n",
      "Hybrid Model: 25.7 °C\n"
     ]
    }
   ],
   "source": [
    "import pandas as pd\n",
    "import json\n",
    "\n",
    "# 🔹 Load the feature list used during training\n",
    "with open(\"X_cols.json\", \"r\") as f:\n",
    "    X_cols_loaded = json.load(f)\n",
    "\n",
    "# 🔹 Collect today's real inputs (the ones user can reasonably provide)\n",
    "humidity = float(input(\"Enter today's humidity (%): \"))\n",
    "pressure = float(input(\"Enter today's pressure (hPa): \"))\n",
    "wind_speed = float(input(\"Enter today's wind speed (m/s): \"))\n",
    "clouds = float(input(\"Enter today's cloud cover (%): \"))\n",
    "\n",
    "# 🔹 Create a full feature dictionary with defaults = NaN\n",
    "today_data = {col: None for col in X_cols_loaded}\n",
    "\n",
    "# Fill only the values you have\n",
    "today_data.update({\n",
    "    'humidity': humidity,\n",
    "    'pressure': pressure,\n",
    "    'wind_speed': wind_speed,\n",
    "    'clouds': clouds\n",
    "})\n",
    "\n",
    "# 🔹 Convert to DataFrame in exact same column order\n",
    "today_input = pd.DataFrame([[today_data[col] for col in X_cols_loaded]],\n",
    "                           columns=X_cols_loaded)\n",
    "\n",
    "# 🔹 Predict\n",
    "pred_lr_today = lr_pipe.predict(today_input)[0]\n",
    "pred_rf_today = rf_pipe.predict(today_input)[0]\n",
    "pred_hybrid_today = best_alpha * pred_lr_today + (1 - best_alpha) * pred_rf_today\n",
    "\n",
    "print(\"\\n📊 Prediction Results\")\n",
    "print(\"Linear Regression:\", round(pred_lr_today, 1), \"°C\")\n",
    "print(\"Random Forest:\", round(pred_rf_today, 1), \"°C\")\n",
    "print(\"Hybrid Model:\", round(pred_hybrid_today, 1), \"°C\")\n"
   ]
  },
  {
   "cell_type": "code",
   "execution_count": 21,
   "id": "fc1fad2f-9e5d-4c95-b948-49f70a7097a5",
   "metadata": {},
   "outputs": [],
   "source": [
    "with open(\"X_cols.json\") as f:\n",
    "    X_cols = json.load(f)"
   ]
  },
  {
   "cell_type": "code",
   "execution_count": 22,
   "id": "21c41e53-354a-48c5-8712-7551504c172a",
   "metadata": {},
   "outputs": [
    {
     "name": "stdout",
     "output_type": "stream",
     "text": [
      "================================\n",
      "📍 City: Coimbatore - Today\n",
      "🌡 Predicted Temp: 30.7°C\n",
      "🤒 API Actual (feels_like): 32.3°C\n",
      "😌 Comfort Index: 61/100\n",
      "🌥 Sky Condition: ☀️ Sunny\n",
      "👕 Recommendation: Enjoy your day 🌞\n",
      "================================\n",
      "\n",
      "================================\n",
      "📍 City: Coimbatore - Tomorrow\n",
      "🌡 Predicted Temp: 29.7°C\n",
      "🤒 API Actual (feels_like): 30.5°C\n",
      "😌 Comfort Index: 62/100\n",
      "🌥 Sky Condition: 🌥 Pleasant\n",
      "👕 Recommendation: Enjoy your day 🌞\n",
      "================================\n",
      "\n"
     ]
    }
   ],
   "source": [
    "import pandas as pd\n",
    "import requests\n",
    "from datetime import datetime\n",
    "\n",
    "# Your API key\n",
    "API_KEY = \"5b7f5a75e903857f0695c87b095c7154\"\n",
    "city = \"Coimbatore\"\n",
    "\n",
    "# ======================\n",
    "# 7) Fetch Weather via API\n",
    "# ======================\n",
    "def fetch_weather(city, day=\"today\"):\n",
    "    url = f\"http://api.openweathermap.org/data/2.5/forecast?q={city}&appid={API_KEY}&units=metric\"\n",
    "    res = requests.get(url).json()\n",
    "    \n",
    "    if day == \"today\":\n",
    "        data = res['list'][0]\n",
    "    elif day == \"tomorrow\":\n",
    "        data = res['list'][8]\n",
    "\n",
    "    dt = datetime.fromtimestamp(data['dt'])\n",
    "\n",
    "    # Build full feature dict matching training\n",
    "    features = {\n",
    "        \"feelslikemax\": data['main']['temp_max'],\n",
    "        \"feelslikemin\": data['main']['temp_min'],\n",
    "        \"feelslike\": data['main']['feels_like'],\n",
    "        \"humidity\": data['main']['humidity'],\n",
    "        \"precip\": 0,  # OpenWeatherMap forecast has rain in mm (you can extract if available)\n",
    "        \"precipprob\": 0,  # not directly available\n",
    "        \"precipcover\": 0, # not directly available\n",
    "        \"windspeed\": data['wind']['speed'],\n",
    "        \"sealevelpressure\": data['main']['pressure'],\n",
    "        \"Year\": dt.year,\n",
    "        \"month\": dt.month,\n",
    "        \"dayofweek\": dt.weekday(),\n",
    "        \"dayofyear\": dt.timetuple().tm_yday,\n",
    "        \"year-2000\": dt.year - 2000,\n",
    "        \"weekofyear\": dt.isocalendar()[1],\n",
    "        \"tempmax_humidity\": data['main']['temp_max'] * data['main']['humidity'],\n",
    "        \"tempmin_humidity\": data['main']['temp_min'] * data['main']['humidity'],\n",
    "        \"temp_humidity\": data['main']['temp'] * data['main']['humidity'] if \"temp\" in data['main'] else data['main']['feels_like'] * data['main']['humidity'],\n",
    "        \"feelslikemax_humidity\": data['main']['temp_max'] * data['main']['humidity'],\n",
    "        \"feelslikemin_humidity\": data['main']['temp_min'] * data['main']['humidity'],\n",
    "        \"feelslike_humidity\": data['main']['feels_like'] * data['main']['humidity'],\n",
    "        \"temp_range\": data['main']['temp_max'] - data['main']['temp_min'],\n",
    "        \"heat_index\": data['main']['feels_like'] + 0.1 * data['main']['humidity']  # placeholder formula\n",
    "    }\n",
    "\n",
    "    return features, data['main']['feels_like']\n",
    "\n",
    "# ======================\n",
    "# 8) Interactive Features\n",
    "# ======================\n",
    "def comfort_index(temp, humidity, wind):\n",
    "    temp_score = max(0, 1 - abs(temp-22)/30)\n",
    "    hum_score = max(0, 1 - humidity/100)\n",
    "    base = 0.6*temp_score + 0.3*hum_score + 0.1*(1-wind/20)\n",
    "    return int(base*100)\n",
    "\n",
    "def categorize_weather(temp, rain_prob):\n",
    "    if rain_prob > 70: return \"🌧 Rainy\"\n",
    "    elif temp > 30: return \"☀️ Sunny\"\n",
    "    elif 20 <= temp <= 30: return \"🌥 Pleasant\"\n",
    "    elif temp < 10: return \"❄ Cold\"\n",
    "    else: return \"🌩 Stormy\"\n",
    "\n",
    "def outfit_recommendation(temp, rain_prob, wind):\n",
    "    if rain_prob>70: return \"Carry an umbrella ☔\"\n",
    "    if temp>32: return \"Wear light cotton clothes 👕\"\n",
    "    if temp<12: return \"Wear warm layers 🧥\"\n",
    "    if wind>15: return \"Avoid cycling today 🚴\"\n",
    "    return \"Enjoy your day 🌞\"\n",
    "    \n",
    "# 🔹 Build input for today + tomorrow\n",
    "for label, day in [(\"Today\", \"today\"), (\"Tomorrow\", \"tomorrow\")]:\n",
    "    features, actual = fetch_weather(city, day)\n",
    "    df_input = pd.DataFrame([features])  # all 24 cols\n",
    "\n",
    "    # Hybrid prediction\n",
    "    pred = best_alpha * lr_pipe.predict(df_input)[0] + (1-best_alpha) * rf_pipe.predict(df_input)[0]\n",
    "    \n",
    "    # Interactive extras\n",
    "    ci = comfort_index(pred, features['humidity'], features['windspeed'])\n",
    "    cat = categorize_weather(pred, 40)\n",
    "    outfit = outfit_recommendation(pred, 40, features['windspeed'])\n",
    "\n",
    "\n",
    "    print(\"================================\")\n",
    "    print(f\"📍 City: {city} - {label}\")\n",
    "    print(f\"🌡 Predicted Temp: {pred:.1f}°C\")\n",
    "    print(f\"🤒 API Actual (feels_like): {actual:.1f}°C\")\n",
    "    print(f\"😌 Comfort Index: {ci}/100\")\n",
    "    print(f\"🌥 Sky Condition: {cat}\")\n",
    "    print(f\"👕 Recommendation: {outfit}\")\n",
    "    print(\"================================\\n\")\n"
   ]
  },
  {
   "cell_type": "code",
   "execution_count": null,
   "id": "d9bb58e7-cf31-4b2a-94f4-f906a64dae04",
   "metadata": {},
   "outputs": [],
   "source": []
  }
 ],
 "metadata": {
  "kernelspec": {
   "display_name": "Python (weather)",
   "language": "python",
   "name": "weather"
  },
  "language_info": {
   "codemirror_mode": {
    "name": "ipython",
    "version": 3
   },
   "file_extension": ".py",
   "mimetype": "text/x-python",
   "name": "python",
   "nbconvert_exporter": "python",
   "pygments_lexer": "ipython3",
   "version": "3.11.13"
  }
 },
 "nbformat": 4,
 "nbformat_minor": 5
}
